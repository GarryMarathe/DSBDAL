{
  "cells": [
    {
      "cell_type": "markdown",
      "id": "321f5e38",
      "metadata": {
        "id": "321f5e38"
      },
      "source": [
        "## Web Scraping Using Python"
      ]
    },
    {
      "cell_type": "markdown",
      "id": "b2854ade",
      "metadata": {
        "id": "b2854ade"
      },
      "source": [
        "Website to be scraped - https://books.toscrape.com/catalogue/page-1.html"
      ]
    },
    {
      "cell_type": "code",
      "execution_count": null,
      "id": "c6b75395",
      "metadata": {
        "id": "c6b75395"
      },
      "outputs": [],
      "source": [
        "# Run these instructions in command prompt\n",
        "# pip install bs4\n",
        "# pip install requests"
      ]
    },
    {
      "cell_type": "markdown",
      "id": "cdf54331",
      "metadata": {
        "id": "cdf54331"
      },
      "source": [
        "**Import necessary libraries**"
      ]
    },
    {
      "cell_type": "code",
      "execution_count": null,
      "id": "7e20722f",
      "metadata": {
        "id": "7e20722f"
      },
      "outputs": [],
      "source": [
        "import requests\n",
        "import bs4\n",
        "import pandas as pd"
      ]
    },
    {
      "cell_type": "markdown",
      "id": "98ee7cc7",
      "metadata": {
        "id": "98ee7cc7"
      },
      "source": [
        "**Send request using URL of the webpage to be scraped**\n",
        "To establish the connection between python environment that we are using and the webpage to be scraped, we use requests library."
      ]
    },
    {
      "cell_type": "code",
      "execution_count": null,
      "id": "0ff8c97a",
      "metadata": {
        "id": "0ff8c97a"
      },
      "outputs": [],
      "source": [
        "# accessing second page of the website\n",
        "request1 = requests.get('http://books.toscrape.com/catalogue/page-2.html')"
      ]
    },
    {
      "cell_type": "code",
      "execution_count": null,
      "id": "f4c9c40c",
      "metadata": {
        "id": "f4c9c40c",
        "outputId": "ba041f4b-c602-47ad-ad91-357058a5cab6",
        "colab": {
          "base_uri": "https://localhost:8080/"
        }
      },
      "outputs": [
        {
          "output_type": "stream",
          "name": "stdout",
          "text": [
            "<Response [200]>\n"
          ]
        }
      ],
      "source": [
        "# status 200 means connection successful\n",
        "print(request1)"
      ]
    },
    {
      "cell_type": "markdown",
      "source": [],
      "metadata": {
        "id": "JUVAx3xeZkbo"
      },
      "id": "JUVAx3xeZkbo"
    },
    {
      "cell_type": "markdown",
      "metadata": {
        "id": "8e589372"
      },
      "source": [
        "**Create soup object using BeautifulSoup library used for web scraping which returns HTML code of the webpage**\n",
        "\n"
      ],
      "id": "8e589372"
    },
    {
      "cell_type": "code",
      "execution_count": null,
      "id": "e9c22cd1",
      "metadata": {
        "id": "e9c22cd1"
      },
      "outputs": [],
      "source": [
        "soup = bs4.BeautifulSoup(request1.text)\n",
        "soup"
      ]
    },
    {
      "cell_type": "markdown",
      "id": "17b8404e",
      "metadata": {
        "id": "17b8404e"
      },
      "source": [
        "**Go to the webpage and right click, hit 'inspect'. HTML code of that block will appear on right side of the webpage**\n",
        "\n",
        "**To choose any HTML tag, use `select` method**\n",
        "\n"
      ]
    },
    {
      "cell_type": "markdown",
      "source": [
        "Let’s try selecting `article` tag. This tag gives me all the information of about each book."
      ],
      "metadata": {
        "id": "r7UjlGc7aMH6"
      },
      "id": "r7UjlGc7aMH6"
    },
    {
      "cell_type": "code",
      "execution_count": null,
      "id": "a50fe3ea",
      "metadata": {
        "id": "a50fe3ea"
      },
      "outputs": [],
      "source": [
        "soup.select('article')"
      ]
    },
    {
      "cell_type": "markdown",
      "id": "9e0a9b57",
      "metadata": {
        "id": "9e0a9b57"
      },
      "source": [
        "**To select tags inside tag :**"
      ]
    },
    {
      "cell_type": "code",
      "execution_count": null,
      "id": "44bd9c94",
      "metadata": {
        "scrolled": true,
        "id": "44bd9c94"
      },
      "outputs": [],
      "source": [
        "soup.select('article h3 a')"
      ]
    },
    {
      "cell_type": "markdown",
      "id": "a2d72805",
      "metadata": {
        "id": "a2d72805"
      },
      "source": [
        "**Let's check the lentgh of a list since `select` method returns a list**"
      ]
    },
    {
      "cell_type": "code",
      "execution_count": null,
      "id": "028b67ee",
      "metadata": {
        "id": "028b67ee",
        "outputId": "9b427d98-1562-40ba-b64e-d60969da69b2",
        "colab": {
          "base_uri": "https://localhost:8080/"
        }
      },
      "outputs": [
        {
          "output_type": "execute_result",
          "data": {
            "text/plain": [
              "20"
            ]
          },
          "metadata": {},
          "execution_count": 8
        }
      ],
      "source": [
        "len(soup.select('article h3 a'))"
      ]
    },
    {
      "cell_type": "markdown",
      "id": "f1b3305a",
      "metadata": {
        "id": "f1b3305a"
      },
      "source": [
        "**So there are 20 books on  a single webpage**"
      ]
    },
    {
      "cell_type": "code",
      "execution_count": null,
      "id": "f240f7c3",
      "metadata": {
        "id": "f240f7c3",
        "outputId": "a6207aac-d04d-4537-bf38-7f6547ffbd16",
        "colab": {
          "base_uri": "https://localhost:8080/"
        }
      },
      "outputs": [
        {
          "output_type": "execute_result",
          "data": {
            "text/plain": [
              "<a href=\"in-her-wake_980/index.html\" title=\"In Her Wake\">In Her Wake</a>"
            ]
          },
          "metadata": {},
          "execution_count": 11
        }
      ],
      "source": [
        "# inspecting any element in the list\n",
        "soup.select('article h3 a')[0]"
      ]
    },
    {
      "cell_type": "code",
      "execution_count": null,
      "id": "cefb3518",
      "metadata": {
        "id": "cefb3518",
        "outputId": "bc1c87e4-c24f-415f-9440-5e35eef3838f",
        "colab": {
          "base_uri": "https://localhost:8080/",
          "height": 35
        }
      },
      "outputs": [
        {
          "output_type": "execute_result",
          "data": {
            "text/plain": [
              "'In Her Wake'"
            ],
            "application/vnd.google.colaboratory.intrinsic+json": {
              "type": "string"
            }
          },
          "metadata": {},
          "execution_count": 12
        }
      ],
      "source": [
        "# accessing the name of book ( similar to key-value pair in Python dictionary )\n",
        "soup.select('article h3 a')[0]['title']"
      ]
    },
    {
      "cell_type": "code",
      "execution_count": null,
      "id": "9419d7a4",
      "metadata": {
        "id": "9419d7a4",
        "outputId": "7bc35682-b35b-4d9c-92e8-b49be68342e1",
        "colab": {
          "base_uri": "https://localhost:8080/",
          "height": 35
        }
      },
      "outputs": [
        {
          "output_type": "execute_result",
          "data": {
            "text/plain": [
              "'in-her-wake_980/index.html'"
            ],
            "application/vnd.google.colaboratory.intrinsic+json": {
              "type": "string"
            }
          },
          "metadata": {},
          "execution_count": 13
        }
      ],
      "source": [
        "# accessing the link of each book ( similar to key-value pair in Python dictionary )\n",
        "soup.select('article h3 a')[0]['href']"
      ]
    },
    {
      "cell_type": "code",
      "execution_count": null,
      "id": "b048ec23",
      "metadata": {
        "id": "b048ec23"
      },
      "outputs": [],
      "source": []
    },
    {
      "cell_type": "markdown",
      "id": "bee657e1",
      "metadata": {
        "id": "bee657e1"
      },
      "source": [
        "**Let's look for rating of each book in `article` tag**"
      ]
    },
    {
      "cell_type": "code",
      "execution_count": null,
      "id": "3dbb33c2",
      "metadata": {
        "id": "3dbb33c2"
      },
      "outputs": [],
      "source": [
        "soup.select('article p')"
      ]
    },
    {
      "cell_type": "code",
      "execution_count": null,
      "id": "b0efb56e",
      "metadata": {
        "scrolled": true,
        "id": "b0efb56e",
        "outputId": "e98097fa-0e11-4bff-b50d-7793b70abf97",
        "colab": {
          "base_uri": "https://localhost:8080/"
        }
      },
      "outputs": [
        {
          "output_type": "execute_result",
          "data": {
            "text/plain": [
              "<p class=\"star-rating One\">\n",
              "<i class=\"icon-star\"></i>\n",
              "<i class=\"icon-star\"></i>\n",
              "<i class=\"icon-star\"></i>\n",
              "<i class=\"icon-star\"></i>\n",
              "<i class=\"icon-star\"></i>\n",
              "</p>"
            ]
          },
          "metadata": {},
          "execution_count": 15
        }
      ],
      "source": [
        "# inspecting first element of a list\n",
        "(soup.select('article p'))[0]"
      ]
    },
    {
      "cell_type": "code",
      "execution_count": null,
      "id": "030fb701",
      "metadata": {
        "id": "030fb701",
        "outputId": "e7c63ac4-6527-4d9c-a1ed-df8d2d527814",
        "colab": {
          "base_uri": "https://localhost:8080/"
        }
      },
      "outputs": [
        {
          "output_type": "execute_result",
          "data": {
            "text/plain": [
              "['star-rating', 'One']"
            ]
          },
          "metadata": {},
          "execution_count": 16
        }
      ],
      "source": [
        "# accessing the class\n",
        "(soup.select('article p'))[0]['class']"
      ]
    },
    {
      "cell_type": "code",
      "execution_count": null,
      "id": "643401ed",
      "metadata": {
        "id": "643401ed",
        "outputId": "c787e6a4-0b13-409b-8d4b-8b335cb2cf16",
        "colab": {
          "base_uri": "https://localhost:8080/",
          "height": 35
        }
      },
      "outputs": [
        {
          "output_type": "execute_result",
          "data": {
            "text/plain": [
              "'One'"
            ],
            "application/vnd.google.colaboratory.intrinsic+json": {
              "type": "string"
            }
          },
          "metadata": {},
          "execution_count": 17
        }
      ],
      "source": [
        "(soup.select('article p'))[0]['class'][1]"
      ]
    },
    {
      "cell_type": "code",
      "execution_count": null,
      "id": "6652001b",
      "metadata": {
        "id": "6652001b"
      },
      "outputs": [],
      "source": []
    },
    {
      "cell_type": "markdown",
      "id": "d0bff73b",
      "metadata": {
        "id": "d0bff73b"
      },
      "source": [
        "**Using for loop to get the names of all the books and their rating**"
      ]
    },
    {
      "cell_type": "code",
      "execution_count": null,
      "id": "59fda1a4",
      "metadata": {
        "id": "59fda1a4"
      },
      "outputs": [],
      "source": [
        "title_list = []\n",
        "rating_list = []\n",
        "\n",
        "for page_num in range(1,51):  # total pages\n",
        "    req_page = requests.get(f'http://books.toscrape.com/catalogue/page-{page_num}.html')  # url of each page\n",
        "    soup_page = bs4.BeautifulSoup(req_page.text)\n",
        "    \n",
        "    for item in soup_page.select('article h3 a'):\n",
        "        title_list.append(item['title'])\n",
        "        \n",
        "    for n in range(0,60,3):\n",
        "        rating_list.append(soup_page.select('article p')[n]['class'][1])\n",
        "\n",
        "             "
      ]
    },
    {
      "cell_type": "code",
      "source": [
        "   d1 = dict(zip(title_list, rating_list))  # making dictionary with features as titles and ratings \n",
        "   new = pd.DataFrame.from_dict(d1,orient='index')  \n",
        "   print(new)\n",
        "        "
      ],
      "metadata": {
        "colab": {
          "base_uri": "https://localhost:8080/"
        },
        "id": "Cdl5HRbzufI3",
        "outputId": "edbec40b-7ceb-4a74-97ba-ff312dda0f14"
      },
      "id": "Cdl5HRbzufI3",
      "execution_count": null,
      "outputs": [
        {
          "output_type": "stream",
          "name": "stdout",
          "text": [
            "                                                        0\n",
            "A Light in the Attic                                Three\n",
            "Tipping the Velvet                                    One\n",
            "Soumission                                            One\n",
            "Sharp Objects                                        Four\n",
            "Sapiens: A Brief History of Humankind                Five\n",
            "...                                                   ...\n",
            "Alice in Wonderland (Alice's Adventures in Wond...    One\n",
            "Ajin: Demi-Human, Volume 1 (Ajin: Demi-Human #1)     Four\n",
            "A Spy's Devotion (The Regency Spies of London #1)    Five\n",
            "1st to Die (Women's Murder Club #1)                   One\n",
            "1,000 Places to See Before You Die                   Five\n",
            "\n",
            "[999 rows x 1 columns]\n"
          ]
        }
      ]
    },
    {
      "cell_type": "code",
      "source": [
        "print(new.shape)"
      ],
      "metadata": {
        "colab": {
          "base_uri": "https://localhost:8080/"
        },
        "id": "ghHvzMG7St8B",
        "outputId": "07d7d827-f23c-4448-afda-99adcb6db5cf"
      },
      "id": "ghHvzMG7St8B",
      "execution_count": null,
      "outputs": [
        {
          "output_type": "stream",
          "name": "stdout",
          "text": [
            "(999, 1)\n"
          ]
        }
      ]
    },
    {
      "cell_type": "code",
      "source": [
        "new.to_csv('scraped_dataset1.csv')"
      ],
      "metadata": {
        "id": "o9aWja-BTDI3"
      },
      "id": "o9aWja-BTDI3",
      "execution_count": null,
      "outputs": []
    },
    {
      "cell_type": "code",
      "source": [
        "import os\n",
        "current_directory = os.getcwd()\n",
        "print(current_directory) \n"
      ],
      "metadata": {
        "colab": {
          "base_uri": "https://localhost:8080/"
        },
        "id": "WeCmVv2YTISd",
        "outputId": "07464110-c716-40f7-98e5-231171385840"
      },
      "id": "WeCmVv2YTISd",
      "execution_count": null,
      "outputs": [
        {
          "output_type": "stream",
          "name": "stdout",
          "text": [
            "/content\n"
          ]
        }
      ]
    },
    {
      "cell_type": "code",
      "source": [
        "new_books_df=pd.read_csv(\"scraped_dataset1.csv\")\n",
        "new_books_df.head(5)"
      ],
      "metadata": {
        "colab": {
          "base_uri": "https://localhost:8080/",
          "height": 206
        },
        "id": "wFYIyoKbzI3Q",
        "outputId": "62058ae6-98c4-437c-87ab-5a2766a65b6d"
      },
      "id": "wFYIyoKbzI3Q",
      "execution_count": null,
      "outputs": [
        {
          "output_type": "execute_result",
          "data": {
            "text/plain": [
              "                              Unnamed: 0      0\n",
              "0                   A Light in the Attic  Three\n",
              "1                     Tipping the Velvet    One\n",
              "2                             Soumission    One\n",
              "3                          Sharp Objects   Four\n",
              "4  Sapiens: A Brief History of Humankind   Five"
            ],
            "text/html": [
              "\n",
              "  <div id=\"df-8549a1ce-ae60-46f9-91a4-caebd278aa82\">\n",
              "    <div class=\"colab-df-container\">\n",
              "      <div>\n",
              "<style scoped>\n",
              "    .dataframe tbody tr th:only-of-type {\n",
              "        vertical-align: middle;\n",
              "    }\n",
              "\n",
              "    .dataframe tbody tr th {\n",
              "        vertical-align: top;\n",
              "    }\n",
              "\n",
              "    .dataframe thead th {\n",
              "        text-align: right;\n",
              "    }\n",
              "</style>\n",
              "<table border=\"1\" class=\"dataframe\">\n",
              "  <thead>\n",
              "    <tr style=\"text-align: right;\">\n",
              "      <th></th>\n",
              "      <th>Unnamed: 0</th>\n",
              "      <th>0</th>\n",
              "    </tr>\n",
              "  </thead>\n",
              "  <tbody>\n",
              "    <tr>\n",
              "      <th>0</th>\n",
              "      <td>A Light in the Attic</td>\n",
              "      <td>Three</td>\n",
              "    </tr>\n",
              "    <tr>\n",
              "      <th>1</th>\n",
              "      <td>Tipping the Velvet</td>\n",
              "      <td>One</td>\n",
              "    </tr>\n",
              "    <tr>\n",
              "      <th>2</th>\n",
              "      <td>Soumission</td>\n",
              "      <td>One</td>\n",
              "    </tr>\n",
              "    <tr>\n",
              "      <th>3</th>\n",
              "      <td>Sharp Objects</td>\n",
              "      <td>Four</td>\n",
              "    </tr>\n",
              "    <tr>\n",
              "      <th>4</th>\n",
              "      <td>Sapiens: A Brief History of Humankind</td>\n",
              "      <td>Five</td>\n",
              "    </tr>\n",
              "  </tbody>\n",
              "</table>\n",
              "</div>\n",
              "      <button class=\"colab-df-convert\" onclick=\"convertToInteractive('df-8549a1ce-ae60-46f9-91a4-caebd278aa82')\"\n",
              "              title=\"Convert this dataframe to an interactive table.\"\n",
              "              style=\"display:none;\">\n",
              "        \n",
              "  <svg xmlns=\"http://www.w3.org/2000/svg\" height=\"24px\"viewBox=\"0 0 24 24\"\n",
              "       width=\"24px\">\n",
              "    <path d=\"M0 0h24v24H0V0z\" fill=\"none\"/>\n",
              "    <path d=\"M18.56 5.44l.94 2.06.94-2.06 2.06-.94-2.06-.94-.94-2.06-.94 2.06-2.06.94zm-11 1L8.5 8.5l.94-2.06 2.06-.94-2.06-.94L8.5 2.5l-.94 2.06-2.06.94zm10 10l.94 2.06.94-2.06 2.06-.94-2.06-.94-.94-2.06-.94 2.06-2.06.94z\"/><path d=\"M17.41 7.96l-1.37-1.37c-.4-.4-.92-.59-1.43-.59-.52 0-1.04.2-1.43.59L10.3 9.45l-7.72 7.72c-.78.78-.78 2.05 0 2.83L4 21.41c.39.39.9.59 1.41.59.51 0 1.02-.2 1.41-.59l7.78-7.78 2.81-2.81c.8-.78.8-2.07 0-2.86zM5.41 20L4 18.59l7.72-7.72 1.47 1.35L5.41 20z\"/>\n",
              "  </svg>\n",
              "      </button>\n",
              "      \n",
              "  <style>\n",
              "    .colab-df-container {\n",
              "      display:flex;\n",
              "      flex-wrap:wrap;\n",
              "      gap: 12px;\n",
              "    }\n",
              "\n",
              "    .colab-df-convert {\n",
              "      background-color: #E8F0FE;\n",
              "      border: none;\n",
              "      border-radius: 50%;\n",
              "      cursor: pointer;\n",
              "      display: none;\n",
              "      fill: #1967D2;\n",
              "      height: 32px;\n",
              "      padding: 0 0 0 0;\n",
              "      width: 32px;\n",
              "    }\n",
              "\n",
              "    .colab-df-convert:hover {\n",
              "      background-color: #E2EBFA;\n",
              "      box-shadow: 0px 1px 2px rgba(60, 64, 67, 0.3), 0px 1px 3px 1px rgba(60, 64, 67, 0.15);\n",
              "      fill: #174EA6;\n",
              "    }\n",
              "\n",
              "    [theme=dark] .colab-df-convert {\n",
              "      background-color: #3B4455;\n",
              "      fill: #D2E3FC;\n",
              "    }\n",
              "\n",
              "    [theme=dark] .colab-df-convert:hover {\n",
              "      background-color: #434B5C;\n",
              "      box-shadow: 0px 1px 3px 1px rgba(0, 0, 0, 0.15);\n",
              "      filter: drop-shadow(0px 1px 2px rgba(0, 0, 0, 0.3));\n",
              "      fill: #FFFFFF;\n",
              "    }\n",
              "  </style>\n",
              "\n",
              "      <script>\n",
              "        const buttonEl =\n",
              "          document.querySelector('#df-8549a1ce-ae60-46f9-91a4-caebd278aa82 button.colab-df-convert');\n",
              "        buttonEl.style.display =\n",
              "          google.colab.kernel.accessAllowed ? 'block' : 'none';\n",
              "\n",
              "        async function convertToInteractive(key) {\n",
              "          const element = document.querySelector('#df-8549a1ce-ae60-46f9-91a4-caebd278aa82');\n",
              "          const dataTable =\n",
              "            await google.colab.kernel.invokeFunction('convertToInteractive',\n",
              "                                                     [key], {});\n",
              "          if (!dataTable) return;\n",
              "\n",
              "          const docLinkHtml = 'Like what you see? Visit the ' +\n",
              "            '<a target=\"_blank\" href=https://colab.research.google.com/notebooks/data_table.ipynb>data table notebook</a>'\n",
              "            + ' to learn more about interactive tables.';\n",
              "          element.innerHTML = '';\n",
              "          dataTable['output_type'] = 'display_data';\n",
              "          await google.colab.output.renderOutput(dataTable, element);\n",
              "          const docLink = document.createElement('div');\n",
              "          docLink.innerHTML = docLinkHtml;\n",
              "          element.appendChild(docLink);\n",
              "        }\n",
              "      </script>\n",
              "    </div>\n",
              "  </div>\n",
              "  "
            ]
          },
          "metadata": {},
          "execution_count": 26
        }
      ]
    },
    {
      "cell_type": "code",
      "execution_count": null,
      "id": "1f6b0363",
      "metadata": {
        "id": "1f6b0363",
        "outputId": "745d0a6a-e6b2-49e2-9fe8-98c3f0104bb7",
        "colab": {
          "base_uri": "https://localhost:8080/"
        }
      },
      "outputs": [
        {
          "output_type": "stream",
          "name": "stdout",
          "text": [
            "['A Light in the Attic', 'Tipping the Velvet', 'Soumission', 'Sharp Objects', 'Sapiens: A Brief History of Humankind', 'The Requiem Red', 'The Dirty Little Secrets of Getting Your Dream Job', 'The Coming Woman: A Novel Based on the Life of the Infamous Feminist, Victoria Woodhull', 'The Boys in the Boat: Nine Americans and Their Epic Quest for Gold at the 1936 Berlin Olympics', 'The Black Maria', 'Starving Hearts (Triangular Trade Trilogy, #1)', \"Shakespeare's Sonnets\", 'Set Me Free', \"Scott Pilgrim's Precious Little Life (Scott Pilgrim #1)\", 'Rip it Up and Start Again', 'Our Band Could Be Your Life: Scenes from the American Indie Underground, 1981-1991', 'Olio', 'Mesaerion: The Best Science Fiction Stories 1800-1849', 'Libertarianism for Beginners', \"It's Only the Himalayas\", 'In Her Wake', 'How Music Works', 'Foolproof Preserving: A Guide to Small Batch Jams, Jellies, Pickles, Condiments, and More: A Foolproof Guide to Making Small Batch Jams, Jellies, Pickles, Condiments, and More', 'Chase Me (Paris Nights #2)', 'Black Dust', 'Birdsong: A Story in Pictures', \"America's Cradle of Quarterbacks: Western Pennsylvania's Football Factory from Johnny Unitas to Joe Montana\", 'Aladdin and His Wonderful Lamp', 'Worlds Elsewhere: Journeys Around Shakespeareâ\\x80\\x99s Globe', 'Wall and Piece', 'The Four Agreements: A Practical Guide to Personal Freedom', 'The Five Love Languages: How to Express Heartfelt Commitment to Your Mate', 'The Elephant Tree', 'The Bear and the Piano', \"Sophie's World\", 'Penny Maybe', 'Maude (1883-1993):She Grew Up with the country', 'In a Dark, Dark Wood', 'Behind Closed Doors', \"You can't bury them all: Poems\", 'Slow States of Collapse: Poems', 'Reasons to Stay Alive', 'Private Paris (Private #10)', '#HigherSelfie: Wake Up Your Life. Free Your Soul. Find Your Tribe.', 'Without Borders (Wanderlove #1)', 'When We Collided', 'We Love You, Charlie Freeman', 'Untitled Collection: Sabbath Poems 2014', 'Unseen City: The Majesty of Pigeons, the Discreet Charm of Snails & Other Wonders of the Urban Wilderness', 'Unicorn Tracks', 'Unbound: How Eight Technologies Made Us Human, Transformed Society, and Brought Our World to the Brink', 'Tsubasa: WoRLD CHRoNiCLE 2 (Tsubasa WoRLD CHRoNiCLE #2)', 'Throwing Rocks at the Google Bus: How Growth Became the Enemy of Prosperity', 'This One Summer', 'Thirst', 'The Torch Is Passed: A Harding Family Story', 'The Secret of Dreadwillow Carse', 'The Pioneer Woman Cooks: Dinnertime: Comfort Classics, Freezer Food, 16-Minute Meals, and Other Delicious Ways to Solve Supper!', 'The Past Never Ends', 'The Natural History of Us (The Fine Art of Pretending #2)', 'The Nameless City (The Nameless City #1)', 'The Murder That Never Was (Forensic Instincts #5)', \"The Most Perfect Thing: Inside (and Outside) a Bird's Egg\", 'The Mindfulness and Acceptance Workbook for Anxiety: A Guide to Breaking Free from Anxiety, Phobias, and Worry Using Acceptance and Commitment Therapy', 'The Life-Changing Magic of Tidying Up: The Japanese Art of Decluttering and Organizing', 'The Inefficiency Assassin: Time Management Tactics for Working Smarter, Not Longer', 'The Gutsy Girl: Escapades for Your Life of Epic Adventure', 'The Electric Pencil: Drawings from Inside State Hospital No. 3', 'The Death of Humanity: and the Case for Life', 'The Bulletproof Diet: Lose up to a Pound a Day, Reclaim Energy and Focus, Upgrade Your Life', 'The Art Forger', 'The Age of Genius: The Seventeenth Century and the Birth of the Modern Mind', \"The Activist's Tao Te Ching: Ancient Advice for a Modern Revolution\", 'Spark Joy: An Illustrated Master Class on the Art of Organizing and Tidying Up', 'Soul Reader', 'Security', 'Saga, Volume 6 (Saga (Collected Editions) #6)', 'Saga, Volume 5 (Saga (Collected Editions) #5)', 'Reskilling America: Learning to Labor in the Twenty-First Century', 'Rat Queens, Vol. 3: Demons (Rat Queens (Collected Editions) #11-15)', 'Princess Jellyfish 2-in-1 Omnibus, Vol. 01 (Princess Jellyfish 2-in-1 Omnibus #1)', 'Princess Between Worlds (Wide-Awake Princess #5)', 'Pop Gun War, Volume 1: Gift', 'Political Suicide: Missteps, Peccadilloes, Bad Calls, Backroom Hijinx, Sordid Pasts, Rotten Breaks, and Just Plain Dumb Mistakes in the Annals of American Politics', 'Patience', 'Outcast, Vol. 1: A Darkness Surrounds Him (Outcast #1)', 'orange: The Complete Collection 1 (orange: The Complete Collection #1)', 'Online Marketing for Busy Authors: A Step-By-Step Guide', 'On a Midnight Clear', 'Obsidian (Lux #1)', 'My Paris Kitchen: Recipes and Stories', 'Masks and Shadows', 'Mama Tried: Traditional Italian Cooking for the Screwed, Crude, Vegan, and Tattooed', 'Lumberjanes, Vol. 2: Friendship to the Max (Lumberjanes #5-8)', 'Lumberjanes, Vol. 1: Beware the Kitten Holy (Lumberjanes #1-4)', 'Lumberjanes Vol. 3: A Terrible Plan (Lumberjanes #9-12)', 'Layered: Baking, Building, and Styling Spectacular Cakes', 'Judo: Seven Steps to Black Belt (an Introductory Guide for Beginners)', 'Join', 'In the Country We Love: My Family Divided', 'Immunity: How Elie Metchnikoff Changed the Course of Modern Medicine', 'I Hate Fairyland, Vol. 1: Madly Ever After (I Hate Fairyland (Compilations) #1-5)', 'I am a Hero Omnibus Volume 1', 'How to Be Miserable: 40 Strategies You Already Use', 'Her Backup Boyfriend (The Sorensen Family #1)', 'Giant Days, Vol. 2 (Giant Days #5-8)', 'Forever and Forever: The Courtship of Henry Longfellow and Fanny Appleton', 'First and First (Five Boroughs #3)', 'Fifty Shades Darker (Fifty Shades #2)', 'Everydata: The Misinformation Hidden in the Little Data You Consume Every Day', \"Don't Be a Jerk: And Other Practical Advice from Dogen, Japan's Greatest Zen Master\", 'Danganronpa Volume 1', 'Crown of Midnight (Throne of Glass #2)', 'Codename Baboushka, Volume 1: The Conclave of Death', 'Camp Midnight', 'Call the Nurse: True Stories of a Country Nurse on a Scottish Isle', 'Burning', 'Bossypants', 'Bitch Planet, Vol. 1: Extraordinary Machine (Bitch Planet (Collected Editions))', 'Avatar: The Last Airbender: Smoke and Shadow, Part 3 (Smoke and Shadow #3)', 'Algorithms to Live By: The Computer Science of Human Decisions', 'A World of Flavor: Your Gluten Free Passport', 'A Piece of Sky, a Grain of Rice: A Memoir in Four Meditations', 'A Murder in Time', 'A Flight of Arrows (The Pathfinders #2)', 'A Fierce and Subtle Poison', 'A Court of Thorns and Roses (A Court of Thorns and Roses #1)', '(Un)Qualified: How God Uses Broken People to Do Big Things', 'You Are What You Love: The Spiritual Power of Habit', \"William Shakespeare's Star Wars: Verily, A New Hope (William Shakespeare's Star Wars #4)\", 'Tuesday Nights in 1980', 'Tracing Numbers on a Train', 'Throne of Glass (Throne of Glass #1)', 'Thomas Jefferson and the Tripoli Pirates: The Forgotten War That Changed American History', 'Thirteen Reasons Why', 'The White Cat and the Monk: A Retelling of the Poem â\\x80\\x9cPangur BÃ¡nâ\\x80\\x9d', 'The Wedding Dress', 'The Vacationers', 'The Third Wave: An Entrepreneurâ\\x80\\x99s Vision of the Future', 'The Stranger', 'The Shadow Hero (The Shadow Hero)', 'The Secret (The Secret #1)', 'The Regional Office Is Under Attack!', 'The Psychopath Test: A Journey Through the Madness Industry', 'The Project', 'The Power of Now: A Guide to Spiritual Enlightenment', \"The Omnivore's Dilemma: A Natural History of Four Meals\", 'The Nerdy Nummies Cookbook: Sweet Treats for the Geek in All of Us', 'The Murder of Roger Ackroyd (Hercule Poirot #4)', 'The Mistake (Off-Campus #2)', \"The Matchmaker's Playbook (Wingmen Inc. #1)\", 'The Love and Lemons Cookbook: An Apple-to-Zucchini Celebration of Impromptu Cooking', 'The Long Shadow of Small Ghosts: Murder and Memory in an American City', 'The Kite Runner', 'The House by the Lake', 'The Glittering Court (The Glittering Court #1)', 'The Girl on the Train', 'The Genius of Birds', 'The Emerald Mystery', 'The Cookies & Cups Cookbook: 125+ sweet & savory recipes reminding you to Always Eat Dessert First', \"The Bridge to Consciousness: I'm Writing the Bridge Between Science and Our Old and New Beliefs.\", \"The Artist's Way: A Spiritual Path to Higher Creativity\", 'The Art of War', 'The Argonauts', 'The 10% Entrepreneur: Live Your Startup Dream Without Quitting Your Day Job', 'Suddenly in Love (Lake Haven #1)', 'Something More Than This', 'Soft Apocalypse', \"So You've Been Publicly Shamed\", 'Shoe Dog: A Memoir by the Creator of NIKE', 'Shobu Samurai, Project Aryoku (#3)', 'Secrets and Lace (Fatal Hearts #1)', 'Scarlett Epstein Hates It Here', 'Romero and Juliet: A Tragic Tale of Love and Zombies', 'Redeeming Love', 'Poses for Artists Volume 1 - Dynamic and Sitting Poses: An Essential Reference for Figure Drawing and the Human Form', 'Poems That Make Grown Women Cry', 'Nightingale, Sing', 'Night Sky with Exit Wounds', 'Mrs. Houdini', 'Modern Romance', 'Miss Peregrineâ\\x80\\x99s Home for Peculiar Children (Miss Peregrineâ\\x80\\x99s Peculiar Children #1)', 'Louisa: The Extraordinary Life of Mrs. Adams', 'Little Red', 'Library of Souls (Miss Peregrineâ\\x80\\x99s Peculiar Children #3)', 'Large Print Heart of the Pride', 'I Had a Nice Time And Other Lies...: How to find love & sh*t like that', 'Hollow City (Miss Peregrineâ\\x80\\x99s Peculiar Children #2)', 'Grumbles', 'Full Moon over Noahâ\\x80\\x99s Ark: An Odyssey to Mount Ararat and Beyond', 'Frostbite (Vampire Academy #2)', 'Follow You Home', 'First Steps for New Christians (Print Edition)', 'Finders Keepers (Bill Hodges Trilogy #2)', 'Fables, Vol. 1: Legends in Exile (Fables #1)', 'Eureka Trivia 6.0', 'Drive: The Surprising Truth About What Motivates Us', 'Done Rubbed Out (Reightman & Bailey #1)', 'Doing It Over (Most Likely To #1)', 'Deliciously Ella Every Day: Quick and Easy Recipes for Gluten-Free Snacks, Packed Lunches, and Simple Meals', 'Dark Notes', 'Daring Greatly: How the Courage to Be Vulnerable Transforms the Way We Live, Love, Parent, and Lead', 'Close to You', 'Chasing Heaven: What Dying Taught Me About Living', 'Big Magic: Creative Living Beyond Fear', 'Becoming Wise: An Inquiry into the Mystery and Art of Living', 'Beauty Restored (Riley Family Legacy Novellas #3)', 'Batman: The Long Halloween (Batman)', 'Batman: The Dark Knight Returns (Batman)', \"Ayumi's Violin\", 'Anonymous', 'Amy Meets the Saints and Sages', 'Amid the Chaos', 'Amatus', 'Agnostic: A Spirited Manifesto', 'Zealot: The Life and Times of Jesus of Nazareth', 'You (You #1)', 'Wonder Woman: Earth One, Volume One (Wonder Woman: Earth One #1)', 'Wild Swans', 'Why the Right Went Wrong: Conservatism--From Goldwater to the Tea Party and Beyond', 'Whole Lotta Creativity Going On: 60 Fun and Unusual Exercises to Awaken and Strengthen Your Creativity', \"What's It Like in Space?: Stories from Astronauts Who've Been There\", 'We Are Robin, Vol. 1: The Vigilante Business (We Are Robin #1)', \"Walt Disney's Alice in Wonderland\", 'V for Vendetta (V for Vendetta Complete)', 'Until Friday Night (The Field Party #1)', 'Unbroken: A World War II Story of Survival, Resilience, and Redemption', 'Twenty Yawns', 'Through the Woods', 'This Is Where It Ends', 'The Year of Magical Thinking', 'The Wright Brothers', \"The White Queen (The Cousins' War #1)\", \"The Wedding Pact (The O'Malleys #2)\", 'The Time Keeper', 'The Testament of Mary', 'The Star-Touched Queen', 'The Songs of the Gods', 'The Song of Achilles', 'The Rosie Project (Don Tillman #1)', 'The Power of Habit: Why We Do What We Do in Life and Business', 'The Marriage of Opposites', 'The Lucifer Effect: Understanding How Good People Turn Evil', 'The Long Haul (Diary of a Wimpy Kid #9)', 'The Loney', 'The Literature Book (Big Ideas Simply Explained)', 'The Last Mile (Amos Decker #2)', 'The Immortal Life of Henrietta Lacks', 'The Hidden Oracle (The Trials of Apollo #1)', 'The Help Yourself Cookbook for Kids: 60 Easy Plant-Based Recipes Kids Can Make to Stay Healthy and Save the Earth', 'The Guilty (Will Robie #4)', 'The First Hostage (J.B. Collins #2)', 'The Dovekeepers', 'The Darkest Lie', 'The Bane Chronicles (The Bane Chronicles #1-11)', 'The Bad-Ass Librarians of Timbuktu: And Their Race to Save the Worldâ\\x80\\x99s Most Precious Manuscripts', 'The 14th Colony (Cotton Malone #11)', 'That Darkness (Gardiner and Renner #1)', 'Tastes Like Fear (DI Marnie Rome #3)', 'Take Me with You', 'Swell: A Year of Waves', 'Superman Vol. 1: Before Truth (Superman by Gene Luen Yang #1)', 'Still Life with Bread Crumbs', 'Steve Jobs', 'Sorting the Beef from the Bull: The Science of Food Fraud Forensics', 'Someone Like You (The Harrisons #2)', 'So Cute It Hurts!!, Vol. 6 (So Cute It Hurts!! #6)', 'Shtum', 'See America: A Celebration of Our National Parks & Treasured Sites', 'salt.', 'Robin War', 'Red Hood/Arsenal, Vol. 1: Open for Business (Red Hood/Arsenal #1)', 'Rain Fish', 'Quarter Life Poetry: Poems for the Young, Broke and Hangry', 'Pet Sematary', 'Overload: How to Unplug, Unwind, and Unleash Yourself from the Pressure of Stress', 'Once Was a Time', 'Old School (Diary of a Wimpy Kid #10)', 'No Dream Is Too High: Life Lessons From a Man Who Walked on the Moon', 'Naruto (3-in-1 Edition), Vol. 14: Includes Vols. 40, 41 & 42 (Naruto: Omnibus #14)', 'My Name Is Lucy Barton', 'My Mrs. Brown', 'My Kind of Crazy', 'Mr. Mercedes (Bill Hodges Trilogy #1)', 'More Than Music (Chasing the Dream #1)', 'Made to Stick: Why Some Ideas Survive and Others Die', 'Luis Paints the World', 'Luckiest Girl Alive', 'Lowriders to the Center of the Earth (Lowriders in Space #2)', 'Love Is a Mix Tape (Music #1)', 'Looking for Lovely: Collecting the Moments that Matter', 'Living Leadership by Insight: A Good Leader Achieves, a Great Leader Builds Monuments', 'Let It Out: A Journey Through Journaling', 'Lady Midnight (The Dark Artifices #1)', \"It's All Easy: Healthy, Delicious Weeknight Meals in under 30 Minutes\", 'Island of Dragons (Unwanteds #7)', \"I Know What I'm Doing -- and Other Lies I Tell Myself: Dispatches from a Life Under Construction\", 'I Am Pilgrim (Pilgrim #1)', 'Hyperbole and a Half: Unfortunate Situations, Flawed Coping Mechanisms, Mayhem, and Other Things That Happened', 'Hush, Hush (Hush, Hush #1)', 'Hold Your Breath (Search and Rescue #1)', 'Hamilton: The Revolution', 'Greek Mythic History', 'God: The Most Unpleasant Character in All Fiction', 'Glory over Everything: Beyond The Kitchen House', 'Feathers: Displays of Brilliant Plumage', 'Far & Away: Places on the Brink of Change: Seven Continents, Twenty-Five Years', 'Every Last Word', 'Eligible (The Austen Project #4)', 'El Deafo', 'Eight Hundred Grapes', 'Eaternity: More than 150 Deliciously Easy Vegan Recipes for a Long, Healthy, Satisfied, Joyful Life', 'Eat Fat, Get Thin', \"Don't Get Caught\", 'Doctor Sleep (The Shining #2)', 'Demigods & Magicians: Percy and Annabeth Meet the Kanes (Percy Jackson & Kane Chronicles Crossover #1-3)', 'Dear Mr. Knightley', 'Daily Fantasy Sports', 'Crazy Love: Overwhelmed by a Relentless God', 'Cometh the Hour (The Clifton Chronicles #6)', 'Code Name Verity (Code Name Verity #1)', 'Clockwork Angel (The Infernal Devices #1)', 'City of Glass (The Mortal Instruments #3)', 'City of Fallen Angels (The Mortal Instruments #4)', 'City of Bones (The Mortal Instruments #1)', 'City of Ashes (The Mortal Instruments #2)', 'Cell', 'Catching Jordan (Hundred Oaks)', 'Carry On, Warrior: Thoughts on Life Unarmed', 'Carrie', 'Buying In: The Secret Dialogue Between What We Buy and Who We Are', 'Brain on Fire: My Month of Madness', 'Batman: Europa', 'Barefoot Contessa Back to Basics', \"Barefoot Contessa at Home: Everyday Recipes You'll Make Over and Over Again\", 'Balloon Animals', 'Art Ops Vol. 1', 'Aristotle and Dante Discover the Secrets of the Universe (Aristotle and Dante Discover the Secrets of the Universe #1)', 'Angels Walking (Angels Walking #1)', 'Angels & Demons (Robert Langdon #1)', 'All the Light We Cannot See', 'Adulthood Is a Myth: A \"Sarah\\'s Scribbles\" Collection', 'Abstract City', 'A Time of Torment (Charlie Parker #14)', 'A Study in Scarlet (Sherlock Holmes #1)', 'A Series of Catastrophes and Miracles: A True Story of Love, Science, and Cancer', \"A People's History of the United States\", 'A Man Called Ove', 'A Distant Mirror: The Calamitous 14th Century', 'A Brush of Wings (Angels Walking #3)', '1491: New Revelations of the Americas Before Columbus', 'The Three Searches, Meaning, and the Story', 'Searching for Meaning in Gailana', 'Rook', 'My Kitchen Year: 136 Recipes That Saved My Life', '13 Hours: The Inside Account of What Really Happened In Benghazi', \"Will You Won't You Want Me?\", 'Tipping Point for Planet Earth: How Close Are We to the Edge?', 'The Star-Touched Queen', 'The Silent Sister (Riley MacPherson #1)', 'The Midnight Watch: A Novel of the Titanic and the Californian', 'The Lonely City: Adventures in the Art of Being Alone', 'The Gray Rhino: How to Recognize and Act on the Obvious Dangers We Ignore', 'The Golden Condom: And Other Essays on Love Lost and Found', 'The Epidemic (The Program 0.6)', 'The Dinner Party', 'The Diary of a Young Girl', 'The Children', 'Stars Above (The Lunar Chronicles #4.5)', 'Snatched: How A Drug Queen Went Undercover for the DEA and Was Kidnapped By Colombian Guerillas', 'Raspberry Pi Electronics Projects for the Evil Genius', 'Quench Your Own Thirst: Business Lessons Learned Over a Beer or Two', 'Psycho: Sanitarium (Psycho #1.5)', 'Poisonous (Max Revere Novels #3)', 'One with You (Crossfire #5)', 'No Love Allowed (Dodge Cove #1)', 'Murder at the 42nd Street Library (Raymond Ambler #1)', 'Most Wanted', 'Love, Lies and Spies', 'How to Speak Golf: An Illustrated Guide to Links Lingo', 'Hide Away (Eve Duncan #20)', 'Furiously Happy: A Funny Book About Horrible Things', 'Everyday Italian: 125 Simple and Delicious Recipes', \"Equal Is Unfair: America's Misguided Fight Against Income Inequality\", 'Eleanor & Park', 'Dirty (Dive Bar #1)', 'Can You Keep a Secret? (Fear Street Relaunch #4)', 'Boar Island (Anna Pigeon #19)', 'A Paris Apartment', 'A la Mode: 120 Recipes in 60 Pairings: Pies, Tarts, Cakes, Crisps, and More Topped with Ice Cream, Gelato, Frozen Custard, and More', 'Troublemaker: Surviving Hollywood and Scientology', 'The Widow', 'The Sleep Revolution: Transforming Your Life, One Night at a Time', 'The Improbability of Love', 'The Art of Startup Fundraising', 'Take Me Home Tonight (Rock Star Romance #3)', 'Sleeping Giants (Themis Files #1)', 'Setting the World on Fire: The Brief, Astonishing Life of St. Catherine of Siena', 'Playing with Fire', 'Off the Hook (Fishing for Trouble #1)', 'Mothering Sunday', 'Mother, Can You Not?', 'M Train', 'Lilac Girls', 'Lies and Other Acts of Love', 'Lab Girl', 'Keep Me Posted', \"It Didn't Start with You: How Inherited Family Trauma Shapes Who We Are and How to End the Cycle\", 'Grey (Fifty Shades #4)', 'Exit, Pursued by a Bear', 'Daredevils', 'Cravings: Recipes for What You Want to Eat', 'Born for This: How to Find the Work You Were Meant to Do', 'Arena', 'Adultery', \"A Mother's Reckoning: Living in the Aftermath of Tragedy\", \"A Gentleman's Position (Society of Gentlemen #3)\", '11/22/63', '10% Happier: How I Tamed the Voice in My Head, Reduced Stress Without Losing My Edge, and Found Self-Help That Actually Works', '10-Day Green Smoothie Cleanse: Lose Up to 15 Pounds in 10 Days!', 'Without Shame', 'Watchmen', 'Unlimited Intuition Now', 'Underlying Notes', 'The Shack', 'The New Brand You: Your New Image Makes the Sale for You', 'The Moosewood Cookbook: Recipes from Moosewood Restaurant, Ithaca, New York', 'The Flowers Lied', 'The Fabric of the Cosmos: Space, Time, and the Texture of Reality', 'The Book of Mormon', 'The Art and Science of Low Carbohydrate Living', 'The Alien Club', 'Suzie Snowflake: One beautiful flake (a self-esteem story)', 'Nap-a-Roo', 'NaNo What Now? Finding your editing process, revising your NaNoWriMo book and building a writing career through publishing and beyond', 'Modern Day Fables', \"If I Gave You God's Phone Number....: Searching for Spirituality in America\", 'Fruits Basket, Vol. 9 (Fruits Basket #9)', 'Dress Your Family in Corduroy and Denim', \"Don't Forget Steven\", \"Chernobyl 01:23:40: The Incredible True Story of the World's Worst Nuclear Disaster\", 'Art and Fear: Observations on the Perils (and Rewards) of Artmaking', 'A Shard of Ice (The Black Symphony Saga #1)', \"A Hero's Curse (The Unseen Chronicles #1)\", '23 Degrees South: A Tropical Tale of Changing Whether...', 'Zero to One: Notes on Startups, or How to Build the Future', 'Why Not Me?', 'When Breath Becomes Air', 'Vagabonding: An Uncommon Guide to the Art of Long-Term World Travel', 'The Unlikely Pilgrimage of Harold Fry (Harold Fry #1)', 'The New Drawing on the Right Side of the Brain', \"The Midnight Assassin: Panic, Scandal, and the Hunt for America's First Serial Killer\", 'The Martian (The Martian #1)', 'The High Mountains of Portugal', 'The Grownup', \"The E-Myth Revisited: Why Most Small Businesses Don't Work and What to Do About It\", 'South of Sunshine', 'Smarter Faster Better: The Secrets of Being Productive in Life and Business', 'Silence in the Dark (Logan Point #4)', 'Shadows of the Past (Logan Point #1)', 'Roller Girl', 'Rising Strong', 'Proofs of God: Classical Arguments from Tertullian to Barth', 'Please Kill Me: The Uncensored Oral History of Punk', 'Out of Print: City Lights Spotlight No. 14', 'My Life Next Door (My Life Next Door )', \"Miller's Valley\", \"Man's Search for Meaning\", \"Love That Boy: What Two Presidents, Eight Road Trips, and My Son Taught Me About a Parent's Expectations\", 'Living Forward: A Proven Plan to Stop Drifting and Get the Life You Want', 'Les Fleurs du Mal', 'Left Behind (Left Behind #1)', \"Kill 'Em and Leave: Searching for James Brown and the American Soul\", 'Kierkegaard: A Christian Missionary to Christians', 'John Vassos: Industrial Design for Modern Life', \"I'll Give You the Sun\", 'I Will Find You', 'Hystopia: A Novel', 'Howl and Other Poems', 'History of Beauty', \"Heaven is for Real: A Little Boy's Astounding Story of His Trip to Heaven and Back\", 'Future Shock (Future Shock #1)', \"Ender's Game (The Ender Quintet #1)\", 'Diary of a Citizen Scientist: Chasing Tiger Beetles and Other New Ways of Engaging the World', 'Death by Leisure: A Cautionary Tale', 'Brilliant Beacons: A History of the American Lighthouse', \"Brazen: The Courage to Find the You That's Been Hiding\", 'Between the World and Me', 'Being Mortal: Medicine and What Matters in the End', 'A Murder Over a Girl: Justice, Gender, Junior High', '32 Yolks', '\"Most Blessed of the Patriarchs\": Thomas Jefferson and the Empire of the Imagination', 'You Are a Badass: How to Stop Doubting Your Greatness and Start Living an Awesome Life', 'Wildlife of New York: A Five-Borough Coloring Book', 'What Happened on Beale Street (Secrets of the South Mysteries #2)', 'Unreasonable Hope: Finding Faith in the God Who Brings Purpose to Your Pain', 'Under the Tuscan Sun', \"Toddlers Are A**holes: It's Not Your Fault\", \"The Year of Living Biblically: One Man's Humble Quest to Follow the Bible as Literally as Possible\", 'The Whale', 'The Story of Art', 'The Origin of Species', 'The Great Gatsby', 'The Good Girl', 'The Glass Castle', \"The Faith of Christopher Hitchens: The Restless Soul of the World's Most Notorious Atheist\", 'The Drowning Girls', 'The Constant Princess (The Tudor Court #1)', 'The Bourne Identity (Jason Bourne #1)', \"The Bachelor Girl's Guide to Murder (Herringford and Watts Mysteries #1)\", 'The Art Book', 'The 7 Habits of Highly Effective People: Powerful Lessons in Personal Change', 'Team of Rivals: The Political Genius of Abraham Lincoln', 'Steal Like an Artist: 10 Things Nobody Told You About Being Creative', 'Sit, Stay, Love', 'Sister Dear', 'Shrunken Treasures: Literary Classics, Short, Sweet, and Silly', 'Rich Dad, Poor Dad', 'Raymie Nightingale', 'Playing from the Heart', 'Nightstruck: A Novel', 'Naturally Lean: 125 Nourishing Gluten-Free, Plant-Based Recipes--All Under 300 Calories', 'Meternity', 'Memoirs of a Geisha', 'Like Never Before (Walker Family #2)', 'Life of Pi', 'Leave This Song Behind: Teen Poetry at Its Best', \"King's Folly (The Kinsman Chronicles #1)\", 'John Adams', 'How to Cook Everything Vegetarian: Simple Meatless Recipes for Great Food (How to Cook Everything)', 'How to Be a Domestic Goddess: Baking and the Art of Comfort Cooking', 'Good in Bed (Cannie Shapiro #1)', 'Fruits Basket, Vol. 7 (Fruits Basket #7)', 'For the Love: Fighting for Grace in a World of Impossible Standards', 'Finding God in the Ruins: How God Redeems Pain', 'Every Heart a Doorway (Every Heart A Doorway #1)', 'Delivering the Truth (Quaker Midwife Mystery #1)', 'Counted With the Stars (Out from Egypt #1)', 'Chronicles, Vol. 1', 'Blue Like Jazz: Nonreligious Thoughts on Christian Spirituality', 'Benjamin Franklin: An American Life', 'At The Existentialist CafÃ©: Freedom, Being, and apricot cocktails with: Jean-Paul Sartre, Simone de Beauvoir, Albert Camus, Martin Heidegger, Edmund Husserl, Karl Jaspers, Maurice Merleau-Ponty and others', 'A Summer In Europe', 'A Short History of Nearly Everything', 'A Gathering of Shadows (Shades of Magic #2)', 'The Sound Of Love', 'The Rise and Fall of the Third Reich: A History of Nazi Germany', 'The Perks of Being a Wallflower', 'The Mysterious Affair at Styles (Hercule Poirot #1)', 'The Man Who Mistook His Wife for a Hat and Other Clinical Tales', 'The Makings of a Fatherless Child', 'The Joy of Cooking', 'The Invention of Wings', 'The Hobbit (Middle-Earth Universe)', 'The Great Railway Bazaar', 'The Golden Compass (His Dark Materials #1)', 'The God Delusion', 'The Girl You Left Behind (The Girl You Left Behind #1)', 'The Fellowship of the Ring (The Lord of the Rings #1)', 'The Collected Poems of W.B. Yeats (The Collected Works of W.B. Yeats #1)', 'The Barefoot Contessa Cookbook', \"Tell the Wolves I'm Home\", 'Ship Leaves Harbor: Essays on Travel by a Recovering Journeyman', 'Pride and Prejudice', 'Musicophilia: Tales of Music and the Brain', 'Mere Christianity', 'Me Before You (Me Before You #1)', 'In the Woods (Dublin Murder Squad #1)', 'In Cold Blood', 'How to Stop Worrying and Start Living', 'Give It Back', 'Girl, Interrupted', 'Fun Home: A Family Tragicomic', 'Fruits Basket, Vol. 6 (Fruits Basket #6)', 'Deception Point', 'Death Note, Vol. 6: Give-and-Take (Death Note #6)', 'Catherine the Great: Portrait of a Woman', 'Better Homes and Gardens New Cook Book', 'An Unquiet Mind: A Memoir of Moods and Madness', 'A Year in Provence (Provence #1)', 'World Without End (The Pillars of the Earth #2)', 'Will Grayson, Will Grayson (Will Grayson, Will Grayson)', 'Why Save the Bankers?: And Other Essays on Our Economic and Political Crisis', 'Where She Went (If I Stay #2)', 'What If?: Serious Scientific Answers to Absurd Hypothetical Questions', 'Two Summers', 'This Is Your Brain on Music: The Science of a Human Obsession', 'The Secret Garden', 'The Raven King (The Raven Cycle #4)', 'The Raven Boys (The Raven Cycle #1)', 'The Power Greens Cookbook: 140 Delicious Superfood Recipes', 'The Metamorphosis', \"The Mathews Men: Seven Brothers and the War Against Hitler's U-boats\", 'The Little Paris Bookshop', 'The Hiding Place', 'The Grand Design', 'The Firm', 'The Fault in Our Stars', 'The False Prince (The Ascendance Trilogy #1)', 'The Expatriates', 'The Dream Thieves (The Raven Cycle #2)', 'The Darkest Corners', 'The Crossover', 'The 5th Wave (The 5th Wave #1)', 'Tell the Wind and Fire', 'Tell Me Three Things', \"Talking to Girls About Duran Duran: One Young Man's Quest for True Love and a Cooler Haircut\", 'Siddhartha', 'Shiver (The Wolves of Mercy Falls #1)', 'Remember Me?', 'Red Dragon (Hannibal Lecter #1)', 'Peak: Secrets from the New Science of Expertise', 'My Mother Was Nuts', 'Mexican Today: New and Rediscovered Recipes for Contemporary Kitchens', 'Maybe Something Beautiful: How Art Transformed a Neighborhood', 'Lola and the Boy Next Door (Anna and the French Kiss #2)', 'Logan Kade (Fallen Crest High #5.5)', 'Last One Home (New Beginnings #1)', 'Killing Floor (Jack Reacher #1)', 'Kill the Boy Band', 'Isla and the Happily Ever After (Anna and the French Kiss #3)', 'If I Stay (If I Stay #1)', \"I Know Why the Caged Bird Sings (Maya Angelou's Autobiography #1)\", 'Harry Potter and the Deathly Hallows (Harry Potter #7)', 'Fruits Basket, Vol. 5 (Fruits Basket #5)', 'Foundation (Foundation (Publication Order) #1)', 'Fool Me Once', 'Find Her (Detective D.D. Warren #8)', 'Evicted: Poverty and Profit in the American City', 'Drama', 'Dracula the Un-Dead', 'Digital Fortress', 'Death Note, Vol. 5: Whiteout (Death Note #5)', 'Data, A Love Story: How I Gamed Online Dating to Meet My Match', 'Critique of Pure Reason', 'Booked', 'Blue Lily, Lily Blue (The Raven Cycle #3)', 'Approval Junkie: Adventures in Caring Too Much', 'An Abundance of Katherines', \"America's War for the Greater Middle East: A Military History\", 'Alight (The Generations Trilogy #2)', \"A Girl's Guide to Moving On (New Beginnings #2)\", 'A Game of Thrones (A Song of Ice and Fire #1)', 'A Feast for Crows (A Song of Ice and Fire #4)', 'A Clash of Kings (A Song of Ice and Fire #2)', 'Vogue Colors A to Z: A Fashion Coloring Book', 'The Shining (The Shining #1)', \"The Pilgrim's Progress\", 'The Perfect Play (Play by Play #1)', 'The Passion of Dolssa', 'The Jazz of Physics: The Secret Link Between Music and the Structure of the Universe', 'The Hunger Games (The Hunger Games #1)', 'The Hound of the Baskervilles (Sherlock Holmes #5)', 'The Gunning of America: Business and the Making of American Gun Culture', \"The Geography of Bliss: One Grump's Search for the Happiest Places in the World\", 'The Demonists (Demonist #1)', 'The Demon Prince of Momochi House, Vol. 4 (The Demon Prince of Momochi House #4)', 'The Bone Hunters (Lexy Vaughan & Steven Macaulay #2)', 'The Beast (Black Dagger Brotherhood #14)', 'Some Women', 'Shopaholic Ties the Knot (Shopaholic #3)', 'Paper and Fire (The Great Library #2)', 'Outlander (Outlander #1)', 'Orchestra of Exiles: The Story of Bronislaw Huberman, the Israel Philharmonic, and the One Thousand Jews He Saved from Nazi Horrors', 'No One Here Gets Out Alive', 'Night Shift (Night Shift #1-20)', 'Needful Things', 'Mockingjay (The Hunger Games #3)', 'Misery', 'Little Women (Little Women #1)', 'It', \"Harry Potter and the Sorcerer's Stone (Harry Potter #1)\", 'Harry Potter and the Prisoner of Azkaban (Harry Potter #3)', 'Harry Potter and the Order of the Phoenix (Harry Potter #5)', 'Harry Potter and the Half-Blood Prince (Harry Potter #6)', 'Harry Potter and the Chamber of Secrets (Harry Potter #2)', 'Gone with the Wind', 'God Is Not Great: How Religion Poisons Everything', 'Girl With a Pearl Earring', 'Fruits Basket, Vol. 4 (Fruits Basket #4)', 'Far From True (Promise Falls Trilogy #2)', 'Dark Lover (Black Dagger Brotherhood #1)', 'Confessions of a Shopaholic (Shopaholic #1)', 'Changing the Game (Play by Play #2)', 'Candide', 'Can You Keep a Secret?', 'Atlas Shrugged', 'Animal Farm', 'A Walk to Remember', \"A New Earth: Awakening to Your Life's Purpose\", 'A History of God: The 4,000-Year Quest of Judaism, Christianity, and Islam', \"'Salem's Lot\", 'Zero History (Blue Ant #3)', 'Wuthering Heights', 'World War Z: An Oral History of the Zombie War', 'Wild: From Lost to Found on the Pacific Crest Trail', \"Where'd You Go, Bernadette\", 'When You Are Engulfed in Flames', \"We the People: The Modern-Day Figures Who Have Reshaped and Affirmed the Founding Fathers' Vision of America\", 'We Are All Completely Beside Ourselves', 'Walk the Edge (Thunder Road #2)', 'Voyager (Outlander #3)', 'Very Good Lives: The Fringe Benefits of Failure and the Importance of Imagination', 'Vegan Vegetarian Omnivore: Dinner for Everyone at the Table', 'Unstuffed: Decluttering Your Home, Mind, and Soul', 'Under the Banner of Heaven: A Story of Violent Faith', 'Two Boys Kissing', 'Twilight (Twilight #1)', 'Twenties Girl', \"Trespassing Across America: One Man's Epic, Never-Done-Before (and Sort of Illegal) Hike Across the Heartland\", 'Three-Martini Lunch', 'Thinking, Fast and Slow', 'The Wild Robot', 'The Wicked + The Divine, Vol. 3: Commercial Suicide (The Wicked + The Divine)', 'The Undomestic Goddess', 'The Travelers', 'The Tipping Point: How Little Things Can Make a Big Difference', 'The Thing About Jellyfish', 'The Stand', 'The Smitten Kitchen Cookbook', 'The Silkworm (Cormoran Strike #2)', 'The Sandman, Vol. 3: Dream Country (The Sandman (volumes) #3)', 'The Rose & the Dagger (The Wrath and the Dawn #2)', 'The Road to Little Dribbling: Adventures of an American in Britain (Notes From a Small Island #2)', 'The Rise of Theodore Roosevelt (Theodore Roosevelt #1)', \"The Restaurant at the End of the Universe (Hitchhiker's Guide to the Galaxy #2)\", 'The Rest Is Noise: Listening to the Twentieth Century', 'The Red Tent', 'The Purpose Driven Life: What on Earth Am I Here for?', 'The Purest Hook (Second Circle Tattoos #3)', 'The Picture of Dorian Gray', 'The Paris Wife', 'The Obsession', 'The Nightingale', 'The New Guy (and Other Senior Year Distractions)', 'The Nanny Diaries (Nanny #1)', 'The Name of God is Mercy', 'The Maze Runner (The Maze Runner #1)', \"The Lover's Dictionary\", 'The Lonely Ones', \"The Lean Startup: How Today's Entrepreneurs Use Continuous Innovation to Create Radically Successful Businesses\", 'The Last Painting of Sara de Vos', 'The Land of 10,000 Madonnas', 'The Infinities', \"The Husband's Secret\", \"The Hitchhiker's Guide to the Galaxy (Hitchhiker's Guide to the Galaxy #1)\", 'The Guns of August', 'The Guernsey Literary and Potato Peel Pie Society', 'The Goldfinch', 'The Giver (The Giver Quartet #1)', 'The Girl with All the Gifts', 'The Girl Who Played with Fire (Millennium Trilogy #2)', \"The Girl Who Kicked the Hornet's Nest (Millennium Trilogy #3)\", 'The Exiled', 'The End of Faith: Religion, Terror, and the Future of Reason', 'The Elegant Universe: Superstrings, Hidden Dimensions, and the Quest for the Ultimate Theory', 'The Disappearing Spoon: And Other True Tales of Madness, Love, and the History of the World from the Periodic Table of the Elements', 'The Devil Wears Prada (The Devil Wears Prada #1)', 'The Demon-Haunted World: Science as a Candle in the Dark', 'The Day the Crayons Came Home (Crayons)', 'The Da Vinci Code (Robert Langdon #2)', \"The Cuckoo's Calling (Cormoran Strike #1)\", 'The Complete Stories and Poems (The Works of Edgar Allan Poe [Cameo Edition])', 'The Complete Poems', 'The Catcher in the Rye', 'The Cat in the Hat (Beginner Books B-1)', 'The Case for Christ (Cases for Christianity)', 'The Book Thief', 'The Book of Basketball: The NBA According to The Sports Guy', 'The Blind Side: Evolution of a Game', 'The Autobiography of Malcolm X', 'The Art of Simple Food: Notes, Lessons, and Recipes from a Delicious Revolution', 'The Art of Fielding', \"Surely You're Joking, Mr. Feynman!: Adventures of a Curious Character\", 'Stiff: The Curious Lives of Human Cadavers', 'Spilled Milk: Based on a True Story', 'Something Borrowed (Darcy & Rachel #1)', 'Something Blue (Darcy & Rachel #2)', 'Soldier (Talon #3)', 'Shopaholic & Baby (Shopaholic #5)', 'Seven Days in the Art World', 'Seven Brief Lessons on Physics', 'Scarlet (The Lunar Chronicles #2)', \"Sarah's Key\", 'Saga, Volume 3 (Saga (Collected Editions) #3)', 'Running with Scissors', 'Rogue Lawyer (Rogue Lawyer #1)', 'Rise of the Rocket Girls: The Women Who Propelled Us, from Missiles to the Moon to Mars', 'Rework', 'Reservations for Two', 'Red: The True Story of Red Riding Hood', 'Ready Player One', \"Quiet: The Power of Introverts in a World That Can't Stop Talking\", 'Prodigy: The Graphic Novel (Legend: The Graphic Novel #2)', 'Persepolis: The Story of a Childhood (Persepolis #1-2)', 'Packing for Mars: The Curious Science of Life in the Void', 'Outliers: The Story of Success', 'Original Fake', 'Orange Is the New Black', 'One for the Money (Stephanie Plum #1)', 'Notes from a Small Island (Notes From a Small Island #1)', 'Night (The Night Trilogy #1)', 'Neither Here nor There: Travels in Europe', 'Naked', 'Morning Star (Red Rising #3)', 'Miracles from Heaven: A Little Girl, Her Journey to Heaven, and Her Amazing Story of Healing', 'Midnight Riot (Peter Grant/ Rivers of London - books #1)', 'Me Talk Pretty One Day', 'Manuscript Found in Accra', 'Lust & Wonder', 'Lila (Gilead #3)', \"Life, the Universe and Everything (Hitchhiker's Guide to the Galaxy #3)\", 'Life Without a Recipe', 'Life After Life', 'Letter to a Christian Nation', \"Let's Pretend This Never Happened: A Mostly True Memoir\", 'Legend (Legend #1)', 'Lean In: Women, Work, and the Will to Lead', \"Lamb: The Gospel According to Biff, Christ's Childhood Pal\", 'Lady Renegades (Rebel Belle #3)', 'Jurassic Park (Jurassic Park #1)', \"It's Never Too Late to Begin Again: Discovering Creativity and Meaning at Midlife and Beyond\", 'Is Everyone Hanging Out Without Me? (And Other Concerns)', 'Into the Wild', 'Inferno (Robert Langdon #4)', \"In the Garden of Beasts: Love, Terror, and an American Family in Hitler's Berlin\", 'If I Run (If I Run #1)', \"I've Got Your Number\", 'I Am Malala: The Girl Who Stood Up for Education and Was Shot by the Taliban', 'Hungry Girl Clean & Hungry: Easy All-Natural Recipes for Healthy Eating in the Real World', 'House of Lost Worlds: Dinosaurs, Dynasties, and the Story of Life on Earth', 'House of Leaves', 'Horrible Bear!', 'Holidays on Ice', 'Heir to the Sky', 'Green Eggs and Ham (Beginner Books B-16)', 'Grayson, Vol 3: Nemesis (Grayson #3)', 'Gratitude', 'Gone Girl', 'Golden (Heart of Dread #3)', 'Girl in the Blue Coat', 'Fruits Basket, Vol. 3 (Fruits Basket #3)', 'Friday Night Lights: A Town, a Team, and a Dream', 'Fire Bound (Sea Haven/Sisters of the Heart #5)', 'Fifty Shades Freed (Fifty Shades #3)', 'Fellside', 'Extreme Prey (Lucas Davenport #26)', 'Eragon (The Inheritance Cycle #1)', 'Eclipse (Twilight #3)', 'Dune (Dune #1)', 'Dracula', 'Do Androids Dream of Electric Sheep? (Blade Runner #1)', 'Disrupted: My Misadventure in the Start-Up Bubble', 'Dead Wake: The Last Crossing of the Lusitania', 'David and Goliath: Underdogs, Misfits, and the Art of Battling Giants', 'Darkfever (Fever #1)', 'Dark Places', 'Crazy Rich Asians (Crazy Rich Asians #1)', 'Counting Thyme', 'Cosmos', 'Civilization and Its Discontents', 'Cinder (The Lunar Chronicles #1)', \"Catastrophic Happiness: Finding Joy in Childhood's Messy Years\", 'Career of Evil (Cormoran Strike #3)', 'Breaking Dawn (Twilight #4)', 'Brave Enough', 'Boy Meets Boy', 'Born to Run: A Hidden Tribe, Superathletes, and the Greatest Race the World Has Never Seen', 'Blink: The Power of Thinking Without Thinking', 'Black Flags: The Rise of ISIS', 'Black Butler, Vol. 1 (Black Butler #1)', 'Big Little Lies', 'Between Shades of Gray', \"Best of My Love (Fool's Gold #20)\", 'Beowulf', 'Beautiful Creatures (Caster Chronicles #1)', 'Awkward', 'Ash', 'Are We There Yet?', 'Are We Smart Enough to Know How Smart Animals Are?', 'Annie on My Mind', 'And Then There Were None', 'A Walk in the Woods: Rediscovering America on the Appalachian Trail', 'A Visit from the Goon Squad', 'A Storm of Swords (A Song of Ice and Fire #3)', 'A Heartbreaking Work of Staggering Genius', '8 Keys to Mental Health Through Exercise', '#GIRLBOSS', 'The Suffragettes (Little Black Classics, #96)', 'The Sense of an Ending', \"The Sandman, Vol. 2: The Doll's House (The Sandman (volumes) #2)\", 'The Course of Love', 'Sugar Rush (Offensive Line #2)', 'Saga, Volume 2 (Saga (Collected Editions) #2)', 'Run, Spot, Run: The Ethics of Keeping Pets', 'New Moon (Twilight #2)', 'Life', \"Kindle Paperwhite User's Guide\", 'H is for Hawk', 'Girl Online On Tour (Girl Online #2)', 'Fruits Basket, Vol. 2 (Fruits Basket #2)', 'Diary of a Minecraft Zombie Book 1: A Scare of a Dare (An Unofficial Minecraft Book)', 'Y: The Last Man, Vol. 1: Unmanned (Y: The Last Man #1)', 'While You Were Mine', 'Where Lightning Strikes (Bleeding Stars #3)', \"When I'm Gone\", 'Ways of Seeing', 'Vampire Knight, Vol. 1 (Vampire Knight #1)', 'Vampire Girl (Vampire Girl #1)', 'Twenty Love Poems and a Song of Despair', 'Travels with Charley: In Search of America', 'Three Wishes (River of Time: California #1)', 'This One Moment (Pushing Limits #1)', 'The Zombie Room', 'The Wicked + The Divine, Vol. 1: The Faust Act (The Wicked + The Divine)', 'The Tumor', 'The Story of Hong Gildong', 'The Silent Wife', 'The Silent Twin (Detective Jennifer Knight #3)', 'The Selfish Gene', 'The Secret Healer', 'The Sandman, Vol. 1: Preludes and Nocturnes (The Sandman (volumes) #1)', 'The Republic', 'The Odyssey', \"The No. 1 Ladies' Detective Agency (No. 1 Ladies' Detective Agency #1)\", 'The Nicomachean Ethics', 'The Name of the Wind (The Kingkiller Chronicle #1)', 'The Mirror & the Maze (The Wrath and the Dawn #1.5)', 'The Little Prince', 'The Light of the Fireflies', 'The Last Girl (The Dominion Trilogy #1)', 'The Iliad', 'The Hook Up (Game On #1)', 'The Haters', 'The Girl You Lost', 'The Girl In The Ice (DCI Erika Foster #1)', 'The End of the Jesus Era (An Investigation #1)', 'The Edge of Reason (Bridget Jones #2)', 'The Complete Maus (Maus #1-2)', 'The Communist Manifesto', 'The Bhagavad Gita', 'The Bette Davis Club', 'The Art of Not Breathing', 'Taking Shots (Assassins #1)', 'Starlark', 'Skip Beat!, Vol. 01 (Skip Beat! #1)', 'Sister Sable (The Mad Queen #1)', 'Shatter Me (Shatter Me #1)', 'Shameless', 'Shadow Rites (Jane Yellowrock #10)', 'Settling the Score (The Summer Games #1)', 'Sense and Sensibility', 'Saga, Volume 1 (Saga (Collected Editions) #1)', 'Rhythm, Chord & Malykhin', 'Rat Queens, Vol. 1: Sass & Sorcery (Rat Queens (Collected Editions) #1-5)', 'Paradise Lost (Paradise #1)', 'Paper Girls, Vol. 1 (Paper Girls #1-5)', 'Ouran High School Host Club, Vol. 1 (Ouran High School Host Club #1)', 'Origins (Alphas 0.5)', 'One Second (Seven #7)', 'On the Road (Duluoz Legend)', \"Old Records Never Die: One Man's Quest for His Vinyl and His Past\", 'Off Sides (Off #1)', 'Of Mice and Men', 'Myriad (Prentor #1)', 'My Perfect Mistake (Over the Top #1)', 'Ms. Marvel, Vol. 1: No Normal (Ms. Marvel (2014-2015) #1)', 'Meditations', 'Matilda', 'Lost Among the Living', 'Lord of the Flies', 'Listen to Me (Fusion #1)', 'Kitchens of the Great Midwest', 'Jane Eyre', 'Imperfect Harmony', 'Icing (Aces Hockey #2)', 'Hawkeye, Vol. 1: My Life as a Weapon (Hawkeye #1)', \"Having the Barbarian's Baby (Ice Planet Barbarians #7.5)\", 'Giant Days, Vol. 1 (Giant Days #1-4)', 'Fruits Basket, Vol. 1 (Fruits Basket #1)', 'Frankenstein', 'Forever Rockers (The Rocker #12)', 'Fighting Fate (Fighting #6)', 'Emma', 'Eat, Pray, Love', 'Deep Under (Walker Security #1)', \"Choosing Our Religion: The Spiritual Lives of America's Nones\", 'Charlie and the Chocolate Factory (Charlie Bucket #1)', \"Charity's Cross (Charles Towne Belles #4)\", 'Bright Lines', \"Bridget Jones's Diary (Bridget Jones #1)\", 'Bounty (Colorado Mountain #7)', 'Blood Defense (Samantha Brinkman #1)', 'Bleach, Vol. 1: Strawberry and the Soul Reapers (Bleach #1)', 'Beyond Good and Evil', \"Alice in Wonderland (Alice's Adventures in Wonderland #1)\", 'Ajin: Demi-Human, Volume 1 (Ajin: Demi-Human #1)', \"A Spy's Devotion (The Regency Spies of London #1)\", \"1st to Die (Women's Murder Club #1)\", '1,000 Places to See Before You Die']\n"
          ]
        }
      ],
      "source": [
        "print(title_list)"
      ]
    },
    {
      "cell_type": "code",
      "execution_count": null,
      "id": "d4ac00c9",
      "metadata": {
        "id": "d4ac00c9",
        "outputId": "9b8f172f-03cc-4247-9a60-aa9e778e709a",
        "colab": {
          "base_uri": "https://localhost:8080/"
        }
      },
      "outputs": [
        {
          "output_type": "stream",
          "name": "stdout",
          "text": [
            "1000\n"
          ]
        }
      ],
      "source": [
        "# total books - 20 books on each of the 50 pages\n",
        "print(len(title_list))"
      ]
    },
    {
      "cell_type": "code",
      "execution_count": null,
      "id": "7b48b208",
      "metadata": {
        "id": "7b48b208",
        "outputId": "97340da2-6d50-47f2-b781-2b8a9c1dc85d",
        "colab": {
          "base_uri": "https://localhost:8080/"
        }
      },
      "outputs": [
        {
          "output_type": "stream",
          "name": "stdout",
          "text": [
            "['Three', 'One', 'One', 'Four', 'Five', 'One', 'Four', 'Three', 'Four', 'One', 'Two', 'Four', 'Five', 'Five', 'Five', 'Three', 'One', 'One', 'Two', 'Two', 'One', 'Two', 'Three', 'Five', 'Five', 'Three', 'Three', 'Three', 'Five', 'Four', 'Five', 'Three', 'Five', 'One', 'Five', 'Three', 'Two', 'One', 'Four', 'Two', 'Three', 'Two', 'Five', 'Five', 'Two', 'One', 'Five', 'Four', 'Four', 'Three', 'One', 'One', 'Three', 'Four', 'Five', 'One', 'One', 'One', 'Four', 'Three', 'Four', 'Three', 'Four', 'Four', 'Three', 'Five', 'One', 'One', 'Four', 'Three', 'Three', 'One', 'Five', 'Four', 'Two', 'Two', 'Three', 'Two', 'Two', 'Three', 'Five', 'Five', 'One', 'Two', 'Three', 'Four', 'One', 'One', 'Three', 'Two', 'Two', 'Two', 'Four', 'Two', 'Three', 'Two', 'One', 'Two', 'Five', 'Four', 'Five', 'Two', 'Three', 'One', 'One', 'Two', 'Three', 'Four', 'One', 'Two', 'Two', 'Four', 'Three', 'Four', 'Four', 'Five', 'Three', 'Two', 'Two', 'Two', 'One', 'One', 'Five', 'One', 'Five', 'Four', 'One', 'Five', 'Four', 'Four', 'Two', 'Three', 'Three', 'One', 'One', 'Four', 'One', 'Four', 'Five', 'Four', 'One', 'Four', 'Five', 'Two', 'One', 'Two', 'Two', 'Five', 'Four', 'Three', 'One', 'Two', 'One', 'Four', 'One', 'One', 'Two', 'One', 'Two', 'One', 'Three', 'Five', 'Five', 'Two', 'Three', 'Two', 'Four', 'Two', 'Two', 'Two', 'Three', 'One', 'Five', 'One', 'Five', 'One', 'Four', 'One', 'One', 'Five', 'Five', 'One', 'Two', 'Three', 'Five', 'Two', 'Four', 'One', 'Two', 'Four', 'Five', 'One', 'One', 'Five', 'Four', 'Four', 'Four', 'Five', 'Three', 'Three', 'Five', 'Three', 'Four', 'Two', 'Three', 'Two', 'Two', 'Two', 'Five', 'Two', 'Four', 'Three', 'One', 'Five', 'Five', 'Three', 'Five', 'Four', 'Two', 'Four', 'Four', 'Two', 'One', 'Five', 'Four', 'Two', 'Two', 'Two', 'Two', 'Two', 'Two', 'Four', 'Five', 'Three', 'Five', 'Four', 'Five', 'Five', 'Five', 'One', 'Three', 'Four', 'One', 'One', 'One', 'Three', 'Two', 'Two', 'Two', 'Three', 'Two', 'Three', 'One', 'Five', 'Four', 'One', 'One', 'One', 'One', 'Three', 'One', 'Five', 'Three', 'Five', 'Four', 'Five', 'Four', 'Four', 'Three', 'Four', 'Three', 'Two', 'Three', 'Five', 'Three', 'Three', 'Two', 'Five', 'Two', 'Two', 'One', 'Three', 'One', 'One', 'Two', 'Five', 'Three', 'Three', 'Two', 'One', 'Five', 'Four', 'Five', 'Five', 'One', 'One', 'Four', 'Four', 'Five', 'Three', 'One', 'Three', 'Five', 'Five', 'Three', 'Three', 'Four', 'Three', 'Three', 'Five', 'Four', 'Five', 'Two', 'One', 'Two', 'Five', 'Five', 'One', 'Two', 'Three', 'Four', 'One', 'Four', 'Four', 'One', 'One', 'Four', 'Three', 'Three', 'Two', 'Four', 'Five', 'Two', 'One', 'Five', 'Three', 'Three', 'Four', 'Two', 'Three', 'Five', 'Two', 'Five', 'Five', 'Two', 'Two', 'Two', 'One', 'Three', 'One', 'Three', 'Three', 'One', 'Four', 'Two', 'One', 'Three', 'One', 'Five', 'Five', 'One', 'Two', 'Four', 'One', 'Five', 'Two', 'Three', 'Three', 'Two', 'Three', 'Four', 'One', 'Five', 'Three', 'Four', 'Four', 'Four', 'Three', 'Two', 'Five', 'One', 'Four', 'Five', 'One', 'Five', 'Four', 'One', 'Three', 'Four', 'One', 'Two', 'Two', 'Four', 'One', 'Three', 'Three', 'One', 'Two', 'Three', 'Three', 'Two', 'Five', 'One', 'Two', 'One', 'One', 'Four', 'Three', 'Four', 'Four', 'Three', 'Three', 'Five', 'Four', 'Five', 'Three', 'Five', 'Three', 'Two', 'Five', 'Five', 'Four', 'Four', 'Two', 'One', 'Five', 'Four', 'Two', 'One', 'Three', 'Five', 'One', 'Five', 'One', 'Four', 'Two', 'One', 'Four', 'Three', 'One', 'Two', 'Four', 'Three', 'Three', 'Two', 'Three', 'One', 'Two', 'Two', 'Five', 'Three', 'Four', 'Two', 'One', 'One', 'One', 'One', 'Five', 'Three', 'Five', 'Five', 'Three', 'One', 'Four', 'Five', 'Five', 'Two', 'Three', 'Two', 'Three', 'Five', 'Two', 'Five', 'One', 'Four', 'One', 'One', 'Four', 'Two', 'Four', 'Two', 'Five', 'One', 'One', 'Four', 'Three', 'Two', 'Four', 'Four', 'Three', 'Two', 'Five', 'Three', 'Two', 'Five', 'Two', 'Three', 'One', 'One', 'Four', 'Four', 'Four', 'Four', 'Three', 'One', 'One', 'Three', 'Three', 'Four', 'Five', 'Two', 'Four', 'Five', 'Two', 'Three', 'Four', 'Three', 'One', 'Two', 'One', 'Four', 'Five', 'Three', 'Three', 'Two', 'Four', 'Five', 'Five', 'Four', 'Four', 'Two', 'Five', 'One', 'Three', 'Two', 'Five', 'Four', 'Five', 'Two', 'One', 'Three', 'Five', 'Two', 'Five', 'Four', 'Five', 'Two', 'Three', 'Four', 'Four', 'Two', 'Four', 'One', 'Five', 'One', 'One', 'Three', 'One', 'Two', 'Five', 'Five', 'Two', 'Three', 'Four', 'One', 'Three', 'One', 'Two', 'Four', 'Five', 'Two', 'Three', 'Four', 'Four', 'Four', 'Three', 'Four', 'Three', 'Three', 'Four', 'Four', 'Four', 'Two', 'Four', 'Four', 'One', 'One', 'Four', 'Two', 'Four', 'Five', 'One', 'Five', 'Three', 'Four', 'Three', 'Three', 'One', 'Five', 'Two', 'One', 'Five', 'Four', 'Two', 'Three', 'One', 'Four', 'Five', 'Five', 'Three', 'Three', 'Two', 'Four', 'Five', 'One', 'Four', 'Two', 'Three', 'Four', 'Five', 'Five', 'Five', 'Two', 'One', 'One', 'One', 'One', 'One', 'One', 'Two', 'Five', 'Five', 'One', 'Three', 'One', 'Five', 'Five', 'Five', 'Five', 'Two', 'Four', 'One', 'Two', 'Four', 'Three', 'Four', 'Three', 'Two', 'Three', 'Five', 'Three', 'Five', 'Two', 'Four', 'Two', 'Two', 'Two', 'Three', 'Five', 'Five', 'Five', 'Five', 'Five', 'Three', 'Five', 'Four', 'Four', 'Four', 'Two', 'Four', 'Three', 'Three', 'Four', 'Four', 'Five', 'One', 'Three', 'One', 'One', 'Four', 'Two', 'One', 'Two', 'Three', 'Three', 'One', 'Five', 'Three', 'One', 'Five', 'One', 'Four', 'One', 'Three', 'One', 'Three', 'One', 'Five', 'Three', 'One', 'Three', 'Five', 'Three', 'Two', 'One', 'One', 'Two', 'Two', 'Two', 'One', 'Three', 'One', 'Three', 'Three', 'Four', 'One', 'Two', 'One', 'Two', 'One', 'Five', 'Five', 'Four', 'One', 'Three', 'One', 'One', 'Five', 'Three', 'One', 'Two', 'Three', 'One', 'Four', 'Three', 'Five', 'Two', 'One', 'Two', 'Five', 'Three', 'Two', 'Four', 'One', 'Five', 'Three', 'Two', 'One', 'Three', 'One', 'Three', 'Two', 'One', 'Three', 'Four', 'Four', 'Five', 'One', 'Four', 'Five', 'Two', 'One', 'Four', 'Five', 'One', 'Two', 'One', 'Two', 'Five', 'Five', 'Two', 'Three', 'One', 'Two', 'Three', 'One', 'Five', 'One', 'Two', 'Two', 'Two', 'Four', 'Four', 'One', 'Five', 'Four', 'Three', 'Four', 'Two', 'Three', 'Three', 'Four', 'One', 'Three', 'One', 'Two', 'One', 'Three', 'Two', 'Two', 'One', 'One', 'Three', 'Three', 'One', 'One', 'Two', 'Two', 'Two', 'Two', 'Three', 'Two', 'Five', 'Two', 'One', 'One', 'Four', 'One', 'Five', 'Five', 'One', 'One', 'Three', 'Five', 'Five', 'Three', 'Four', 'One', 'Two', 'Three', 'Two', 'One', 'Two', 'Two', 'Four', 'Four', 'One', 'Five', 'Five', 'Four', 'Two', 'Two', 'Three', 'Four', 'Five', 'One', 'Three', 'Three', 'One', 'One', 'Three', 'One', 'Five', 'Five', 'One', 'One', 'Five', 'Five', 'One', 'Two', 'Two', 'One', 'Two', 'Two', 'Five', 'Five', 'Three', 'Two', 'Five', 'One', 'One', 'One', 'Five', 'Two', 'Two', 'Five', 'Two', 'Four', 'Three', 'One', 'Five', 'Two', 'Four', 'Five', 'Two', 'Five', 'One', 'One', 'Two', 'Three', 'One', 'Three', 'One', 'Three', 'One', 'Four', 'Five', 'Three', 'Five', 'One', 'Five', 'Four', 'Four', 'Five', 'Three', 'Three', 'Five', 'One', 'Two', 'Four', 'Five', 'Two', 'One', 'Five', 'Two', 'Five', 'Four', 'Five', 'Three', 'One', 'Three', 'Three', 'Three', 'Three', 'Four', 'One', 'Three', 'One', 'Two', 'One', 'Two', 'One', 'Five', 'Five', 'Five', 'Three', 'One', 'Four', 'Three', 'Three', 'Three', 'Three', 'Four', 'Two', 'Three', 'Three', 'Three', 'One', 'Three', 'Four', 'Two', 'One', 'One', 'Two', 'Five', 'One', 'Four', 'Three', 'One', 'Two', 'Three', 'Two', 'Five', 'Two', 'Four', 'Two', 'Four', 'Two', 'One', 'Four', 'Three', 'Three', 'Five', 'Five', 'Four', 'Four', 'Three', 'Four', 'Four', 'Five', 'Two', 'Three', 'Three', 'Two', 'Three', 'Five', 'Four', 'Three', 'One', 'Five', 'One', 'Four', 'Three', 'Five', 'One', 'One', 'Four', 'Five', 'One', 'Five']\n"
          ]
        }
      ],
      "source": [
        "print(rating_list)"
      ]
    },
    {
      "cell_type": "code",
      "execution_count": null,
      "id": "68345f4d",
      "metadata": {
        "id": "68345f4d",
        "outputId": "8aac5241-a945-410b-fc88-1f47e526a2b2",
        "colab": {
          "base_uri": "https://localhost:8080/"
        }
      },
      "outputs": [
        {
          "output_type": "stream",
          "name": "stdout",
          "text": [
            "1000\n"
          ]
        }
      ],
      "source": [
        "print(len(rating_list))"
      ]
    },
    {
      "cell_type": "code",
      "execution_count": null,
      "id": "95a436a3",
      "metadata": {
        "id": "95a436a3"
      },
      "outputs": [],
      "source": []
    },
    {
      "cell_type": "markdown",
      "id": "48058fb2",
      "metadata": {
        "id": "48058fb2"
      },
      "source": [
        "**All other information about each book is available on respective book's URL. Let's check any random book and try to access the information.**"
      ]
    },
    {
      "cell_type": "code",
      "execution_count": null,
      "id": "eeb854c4",
      "metadata": {
        "id": "eeb854c4",
        "outputId": "dbff14a6-0bc9-4d40-b1d4-d4fd3479103a",
        "colab": {
          "base_uri": "https://localhost:8080/",
          "height": 35
        }
      },
      "outputs": [
        {
          "output_type": "execute_result",
          "data": {
            "text/plain": [
              "'in-her-wake_980/index.html'"
            ],
            "application/vnd.google.colaboratory.intrinsic+json": {
              "type": "string"
            }
          },
          "metadata": {},
          "execution_count": 19
        }
      ],
      "source": [
        "# we already know the url\n",
        "soup.select('article h3 a')[0]['href']"
      ]
    },
    {
      "cell_type": "code",
      "execution_count": null,
      "id": "62c6b6c4",
      "metadata": {
        "id": "62c6b6c4"
      },
      "outputs": [],
      "source": [
        "# new request for each url\n",
        "new_request = requests.get('https://books.toscrape.com/catalogue/in-her-wake_980/index.html') "
      ]
    },
    {
      "cell_type": "code",
      "execution_count": null,
      "id": "8a4ed34e",
      "metadata": {
        "id": "8a4ed34e"
      },
      "outputs": [],
      "source": [
        "# new soup object for each book url\n",
        "soup_new = bs4.BeautifulSoup(new_request.text)\n",
        "soup_new"
      ]
    },
    {
      "cell_type": "code",
      "execution_count": null,
      "id": "e5ca51b7",
      "metadata": {
        "id": "e5ca51b7"
      },
      "outputs": [],
      "source": []
    },
    {
      "cell_type": "code",
      "execution_count": null,
      "id": "143b803f",
      "metadata": {
        "id": "143b803f",
        "outputId": "266d267d-eee4-4d13-e0ad-2f7d630bce1b",
        "colab": {
          "base_uri": "https://localhost:8080/"
        }
      },
      "outputs": [
        {
          "output_type": "execute_result",
          "data": {
            "text/plain": [
              "[<tr>\n",
              " <th>UPC</th><td>23356462d1320d61</td>\n",
              " </tr>,\n",
              " <tr>\n",
              " <th>Product Type</th><td>Books</td>\n",
              " </tr>,\n",
              " <tr>\n",
              " <th>Price (excl. tax)</th><td>Â£12.84</td>\n",
              " </tr>,\n",
              " <tr>\n",
              " <th>Price (incl. tax)</th><td>Â£12.84</td>\n",
              " </tr>,\n",
              " <tr>\n",
              " <th>Tax</th><td>Â£0.00</td>\n",
              " </tr>,\n",
              " <tr>\n",
              " <th>Availability</th>\n",
              " <td>In stock (19 available)</td>\n",
              " </tr>,\n",
              " <tr>\n",
              " <th>Number of reviews</th>\n",
              " <td>0</td>\n",
              " </tr>]"
            ]
          },
          "metadata": {},
          "execution_count": 26
        }
      ],
      "source": [
        "# visit URL and go the Product Information table\n",
        "soup_new.select('tr')"
      ]
    },
    {
      "cell_type": "code",
      "execution_count": null,
      "id": "c8b2df40",
      "metadata": {
        "scrolled": true,
        "id": "c8b2df40",
        "outputId": "67b65bee-ba2b-4006-e44d-c7e31f5061bd",
        "colab": {
          "base_uri": "https://localhost:8080/"
        }
      },
      "outputs": [
        {
          "output_type": "execute_result",
          "data": {
            "text/plain": [
              "[<th>UPC</th>,\n",
              " <th>Product Type</th>,\n",
              " <th>Price (excl. tax)</th>,\n",
              " <th>Price (incl. tax)</th>,\n",
              " <th>Tax</th>,\n",
              " <th>Availability</th>,\n",
              " <th>Number of reviews</th>]"
            ]
          },
          "metadata": {},
          "execution_count": 27
        }
      ],
      "source": [
        "# feature of book\n",
        "soup_new.select('tr th')"
      ]
    },
    {
      "cell_type": "code",
      "execution_count": null,
      "id": "a1abf12f",
      "metadata": {
        "id": "a1abf12f",
        "outputId": "35d05384-257b-4e86-d13f-d7cbe27066f6",
        "colab": {
          "base_uri": "https://localhost:8080/",
          "height": 35
        }
      },
      "outputs": [
        {
          "output_type": "execute_result",
          "data": {
            "text/plain": [
              "'Price (excl. tax)'"
            ],
            "application/vnd.google.colaboratory.intrinsic+json": {
              "type": "string"
            }
          },
          "metadata": {},
          "execution_count": 28
        }
      ],
      "source": [
        "# accessing random feature\n",
        "soup_new.select('tr th')[2].text"
      ]
    },
    {
      "cell_type": "code",
      "execution_count": null,
      "id": "32cb3d2d",
      "metadata": {
        "scrolled": false,
        "id": "32cb3d2d",
        "outputId": "52b1acf1-22d9-48e4-f052-8256f65fbd9b",
        "colab": {
          "base_uri": "https://localhost:8080/"
        }
      },
      "outputs": [
        {
          "output_type": "execute_result",
          "data": {
            "text/plain": [
              "[<td>23356462d1320d61</td>,\n",
              " <td>Books</td>,\n",
              " <td>Â£12.84</td>,\n",
              " <td>Â£12.84</td>,\n",
              " <td>Â£0.00</td>,\n",
              " <td>In stock (19 available)</td>,\n",
              " <td>0</td>]"
            ]
          },
          "metadata": {},
          "execution_count": 29
        }
      ],
      "source": [
        "# value of that feature\n",
        "soup_new.select('tr td')"
      ]
    },
    {
      "cell_type": "code",
      "execution_count": null,
      "id": "15091988",
      "metadata": {
        "id": "15091988",
        "outputId": "660d610c-75e7-4deb-8015-f06d2145cc2c",
        "colab": {
          "base_uri": "https://localhost:8080/",
          "height": 35
        }
      },
      "outputs": [
        {
          "output_type": "execute_result",
          "data": {
            "text/plain": [
              "'Â£12.84'"
            ],
            "application/vnd.google.colaboratory.intrinsic+json": {
              "type": "string"
            }
          },
          "metadata": {},
          "execution_count": 30
        }
      ],
      "source": [
        "# accessing value of random feature\n",
        "soup_new.select('tr td')[2].text"
      ]
    },
    {
      "cell_type": "code",
      "execution_count": null,
      "id": "dadb8ac7",
      "metadata": {
        "id": "dadb8ac7"
      },
      "outputs": [],
      "source": []
    },
    {
      "cell_type": "markdown",
      "id": "0b40c4cb",
      "metadata": {
        "id": "0b40c4cb"
      },
      "source": [
        "**Using `for` loop to get all the information about each book in the form of dataframe**"
      ]
    },
    {
      "cell_type": "code",
      "execution_count": null,
      "id": "b1a7ed13",
      "metadata": {
        "id": "b1a7ed13"
      },
      "outputs": [],
      "source": [
        "%%time\n",
        "\n",
        "new_df = pd.DataFrame()  # empty dataframe\n",
        "index_num= 0             # index of dataframe\n",
        "\n",
        "for page_num in range(1,51):    # total pages\n",
        "    request = requests.get(f'http://books.toscrape.com/catalogue/page-{page_num}.html')  # url of each page\n",
        "    soup_ = bs4.BeautifulSoup(request.text)\n",
        "    book_info_list = soup_.select('article h3 a')   # all books on that page\n",
        "\n",
        "    for n in range(0,20):\n",
        "        res = requests.get('http://books.toscrape.com/catalogue/'+ book_info_list[n]['href']) # url of each book in above page\n",
        "        soup = bs4.BeautifulSoup(res.text, 'lxml')\n",
        "        \n",
        "        book_features_column_list = soup.select('tr th')   # book features like price, rating of each book\n",
        "        book_column_values = soup.select('tr td')          # values of that features\n",
        "        \n",
        "        column_names = [ item.text for item in book_features_column_list ]\n",
        "        \n",
        "        column_values = [item.text for item in book_column_values ]\n",
        "        \n",
        "        d = dict(zip(column_names, column_values))  # making dictionary with features as columns and values as rows\n",
        "    \n",
        "        df = pd.DataFrame(d, index = [index_num + n]) \n",
        "        new_df = new_df.append(df)   # append df of every page\n",
        "        \n",
        "    index_num += 20  # index for each page to be incremented by 20 as zero_base index since there are 20 books on each page \n",
        "    "
      ]
    },
    {
      "cell_type": "code",
      "execution_count": null,
      "id": "decfa547",
      "metadata": {
        "id": "decfa547",
        "outputId": "45af53a8-8248-4e84-970f-a8381814a421",
        "colab": {
          "base_uri": "https://localhost:8080/",
          "height": 424
        }
      },
      "outputs": [
        {
          "output_type": "execute_result",
          "data": {
            "text/plain": [
              "                  UPC Product Type Price (excl. tax) Price (incl. tax)  \\\n",
              "0    a897fe39b1053632        Books           Â£51.77           Â£51.77   \n",
              "1    90fa61229261140a        Books           Â£53.74           Â£53.74   \n",
              "2    6957f44c3847a760        Books           Â£50.10           Â£50.10   \n",
              "3    e00eb4fd7b871a48        Books           Â£47.82           Â£47.82   \n",
              "4    4165285e1663650f        Books           Â£54.23           Â£54.23   \n",
              "..                ...          ...               ...               ...   \n",
              "652  6587f46697fc4443        Books           Â£14.82           Â£14.82   \n",
              "653  45033bdf3d9ed158        Books           Â£16.81           Â£16.81   \n",
              "654  c65ee14957c0fa5c        Books           Â£28.23           Â£28.23   \n",
              "655  ff2dffba388d9922        Books           Â£52.11           Â£52.11   \n",
              "656  df53c2948b32bde3        Books           Â£27.88           Â£27.88   \n",
              "\n",
              "        Tax             Availability Number of reviews  \n",
              "0    Â£0.00  In stock (22 available)                 0  \n",
              "1    Â£0.00  In stock (20 available)                 0  \n",
              "2    Â£0.00  In stock (20 available)                 0  \n",
              "3    Â£0.00  In stock (20 available)                 0  \n",
              "4    Â£0.00  In stock (20 available)                 0  \n",
              "..      ...                      ...               ...  \n",
              "652  Â£0.00   In stock (4 available)                 0  \n",
              "653  Â£0.00   In stock (4 available)                 0  \n",
              "654  Â£0.00   In stock (4 available)                 0  \n",
              "655  Â£0.00   In stock (4 available)                 0  \n",
              "656  Â£0.00   In stock (4 available)                 0  \n",
              "\n",
              "[657 rows x 7 columns]"
            ],
            "text/html": [
              "\n",
              "  <div id=\"df-9c040ccc-7a4a-4723-b21e-f9c9edadc495\">\n",
              "    <div class=\"colab-df-container\">\n",
              "      <div>\n",
              "<style scoped>\n",
              "    .dataframe tbody tr th:only-of-type {\n",
              "        vertical-align: middle;\n",
              "    }\n",
              "\n",
              "    .dataframe tbody tr th {\n",
              "        vertical-align: top;\n",
              "    }\n",
              "\n",
              "    .dataframe thead th {\n",
              "        text-align: right;\n",
              "    }\n",
              "</style>\n",
              "<table border=\"1\" class=\"dataframe\">\n",
              "  <thead>\n",
              "    <tr style=\"text-align: right;\">\n",
              "      <th></th>\n",
              "      <th>UPC</th>\n",
              "      <th>Product Type</th>\n",
              "      <th>Price (excl. tax)</th>\n",
              "      <th>Price (incl. tax)</th>\n",
              "      <th>Tax</th>\n",
              "      <th>Availability</th>\n",
              "      <th>Number of reviews</th>\n",
              "    </tr>\n",
              "  </thead>\n",
              "  <tbody>\n",
              "    <tr>\n",
              "      <th>0</th>\n",
              "      <td>a897fe39b1053632</td>\n",
              "      <td>Books</td>\n",
              "      <td>Â£51.77</td>\n",
              "      <td>Â£51.77</td>\n",
              "      <td>Â£0.00</td>\n",
              "      <td>In stock (22 available)</td>\n",
              "      <td>0</td>\n",
              "    </tr>\n",
              "    <tr>\n",
              "      <th>1</th>\n",
              "      <td>90fa61229261140a</td>\n",
              "      <td>Books</td>\n",
              "      <td>Â£53.74</td>\n",
              "      <td>Â£53.74</td>\n",
              "      <td>Â£0.00</td>\n",
              "      <td>In stock (20 available)</td>\n",
              "      <td>0</td>\n",
              "    </tr>\n",
              "    <tr>\n",
              "      <th>2</th>\n",
              "      <td>6957f44c3847a760</td>\n",
              "      <td>Books</td>\n",
              "      <td>Â£50.10</td>\n",
              "      <td>Â£50.10</td>\n",
              "      <td>Â£0.00</td>\n",
              "      <td>In stock (20 available)</td>\n",
              "      <td>0</td>\n",
              "    </tr>\n",
              "    <tr>\n",
              "      <th>3</th>\n",
              "      <td>e00eb4fd7b871a48</td>\n",
              "      <td>Books</td>\n",
              "      <td>Â£47.82</td>\n",
              "      <td>Â£47.82</td>\n",
              "      <td>Â£0.00</td>\n",
              "      <td>In stock (20 available)</td>\n",
              "      <td>0</td>\n",
              "    </tr>\n",
              "    <tr>\n",
              "      <th>4</th>\n",
              "      <td>4165285e1663650f</td>\n",
              "      <td>Books</td>\n",
              "      <td>Â£54.23</td>\n",
              "      <td>Â£54.23</td>\n",
              "      <td>Â£0.00</td>\n",
              "      <td>In stock (20 available)</td>\n",
              "      <td>0</td>\n",
              "    </tr>\n",
              "    <tr>\n",
              "      <th>...</th>\n",
              "      <td>...</td>\n",
              "      <td>...</td>\n",
              "      <td>...</td>\n",
              "      <td>...</td>\n",
              "      <td>...</td>\n",
              "      <td>...</td>\n",
              "      <td>...</td>\n",
              "    </tr>\n",
              "    <tr>\n",
              "      <th>652</th>\n",
              "      <td>6587f46697fc4443</td>\n",
              "      <td>Books</td>\n",
              "      <td>Â£14.82</td>\n",
              "      <td>Â£14.82</td>\n",
              "      <td>Â£0.00</td>\n",
              "      <td>In stock (4 available)</td>\n",
              "      <td>0</td>\n",
              "    </tr>\n",
              "    <tr>\n",
              "      <th>653</th>\n",
              "      <td>45033bdf3d9ed158</td>\n",
              "      <td>Books</td>\n",
              "      <td>Â£16.81</td>\n",
              "      <td>Â£16.81</td>\n",
              "      <td>Â£0.00</td>\n",
              "      <td>In stock (4 available)</td>\n",
              "      <td>0</td>\n",
              "    </tr>\n",
              "    <tr>\n",
              "      <th>654</th>\n",
              "      <td>c65ee14957c0fa5c</td>\n",
              "      <td>Books</td>\n",
              "      <td>Â£28.23</td>\n",
              "      <td>Â£28.23</td>\n",
              "      <td>Â£0.00</td>\n",
              "      <td>In stock (4 available)</td>\n",
              "      <td>0</td>\n",
              "    </tr>\n",
              "    <tr>\n",
              "      <th>655</th>\n",
              "      <td>ff2dffba388d9922</td>\n",
              "      <td>Books</td>\n",
              "      <td>Â£52.11</td>\n",
              "      <td>Â£52.11</td>\n",
              "      <td>Â£0.00</td>\n",
              "      <td>In stock (4 available)</td>\n",
              "      <td>0</td>\n",
              "    </tr>\n",
              "    <tr>\n",
              "      <th>656</th>\n",
              "      <td>df53c2948b32bde3</td>\n",
              "      <td>Books</td>\n",
              "      <td>Â£27.88</td>\n",
              "      <td>Â£27.88</td>\n",
              "      <td>Â£0.00</td>\n",
              "      <td>In stock (4 available)</td>\n",
              "      <td>0</td>\n",
              "    </tr>\n",
              "  </tbody>\n",
              "</table>\n",
              "<p>657 rows × 7 columns</p>\n",
              "</div>\n",
              "      <button class=\"colab-df-convert\" onclick=\"convertToInteractive('df-9c040ccc-7a4a-4723-b21e-f9c9edadc495')\"\n",
              "              title=\"Convert this dataframe to an interactive table.\"\n",
              "              style=\"display:none;\">\n",
              "        \n",
              "  <svg xmlns=\"http://www.w3.org/2000/svg\" height=\"24px\"viewBox=\"0 0 24 24\"\n",
              "       width=\"24px\">\n",
              "    <path d=\"M0 0h24v24H0V0z\" fill=\"none\"/>\n",
              "    <path d=\"M18.56 5.44l.94 2.06.94-2.06 2.06-.94-2.06-.94-.94-2.06-.94 2.06-2.06.94zm-11 1L8.5 8.5l.94-2.06 2.06-.94-2.06-.94L8.5 2.5l-.94 2.06-2.06.94zm10 10l.94 2.06.94-2.06 2.06-.94-2.06-.94-.94-2.06-.94 2.06-2.06.94z\"/><path d=\"M17.41 7.96l-1.37-1.37c-.4-.4-.92-.59-1.43-.59-.52 0-1.04.2-1.43.59L10.3 9.45l-7.72 7.72c-.78.78-.78 2.05 0 2.83L4 21.41c.39.39.9.59 1.41.59.51 0 1.02-.2 1.41-.59l7.78-7.78 2.81-2.81c.8-.78.8-2.07 0-2.86zM5.41 20L4 18.59l7.72-7.72 1.47 1.35L5.41 20z\"/>\n",
              "  </svg>\n",
              "      </button>\n",
              "      \n",
              "  <style>\n",
              "    .colab-df-container {\n",
              "      display:flex;\n",
              "      flex-wrap:wrap;\n",
              "      gap: 12px;\n",
              "    }\n",
              "\n",
              "    .colab-df-convert {\n",
              "      background-color: #E8F0FE;\n",
              "      border: none;\n",
              "      border-radius: 50%;\n",
              "      cursor: pointer;\n",
              "      display: none;\n",
              "      fill: #1967D2;\n",
              "      height: 32px;\n",
              "      padding: 0 0 0 0;\n",
              "      width: 32px;\n",
              "    }\n",
              "\n",
              "    .colab-df-convert:hover {\n",
              "      background-color: #E2EBFA;\n",
              "      box-shadow: 0px 1px 2px rgba(60, 64, 67, 0.3), 0px 1px 3px 1px rgba(60, 64, 67, 0.15);\n",
              "      fill: #174EA6;\n",
              "    }\n",
              "\n",
              "    [theme=dark] .colab-df-convert {\n",
              "      background-color: #3B4455;\n",
              "      fill: #D2E3FC;\n",
              "    }\n",
              "\n",
              "    [theme=dark] .colab-df-convert:hover {\n",
              "      background-color: #434B5C;\n",
              "      box-shadow: 0px 1px 3px 1px rgba(0, 0, 0, 0.15);\n",
              "      filter: drop-shadow(0px 1px 2px rgba(0, 0, 0, 0.3));\n",
              "      fill: #FFFFFF;\n",
              "    }\n",
              "  </style>\n",
              "\n",
              "      <script>\n",
              "        const buttonEl =\n",
              "          document.querySelector('#df-9c040ccc-7a4a-4723-b21e-f9c9edadc495 button.colab-df-convert');\n",
              "        buttonEl.style.display =\n",
              "          google.colab.kernel.accessAllowed ? 'block' : 'none';\n",
              "\n",
              "        async function convertToInteractive(key) {\n",
              "          const element = document.querySelector('#df-9c040ccc-7a4a-4723-b21e-f9c9edadc495');\n",
              "          const dataTable =\n",
              "            await google.colab.kernel.invokeFunction('convertToInteractive',\n",
              "                                                     [key], {});\n",
              "          if (!dataTable) return;\n",
              "\n",
              "          const docLinkHtml = 'Like what you see? Visit the ' +\n",
              "            '<a target=\"_blank\" href=https://colab.research.google.com/notebooks/data_table.ipynb>data table notebook</a>'\n",
              "            + ' to learn more about interactive tables.';\n",
              "          element.innerHTML = '';\n",
              "          dataTable['output_type'] = 'display_data';\n",
              "          await google.colab.output.renderOutput(dataTable, element);\n",
              "          const docLink = document.createElement('div');\n",
              "          docLink.innerHTML = docLinkHtml;\n",
              "          element.appendChild(docLink);\n",
              "        }\n",
              "      </script>\n",
              "    </div>\n",
              "  </div>\n",
              "  "
            ]
          },
          "metadata": {},
          "execution_count": 28
        }
      ],
      "source": [
        "new_df"
      ]
    },
    {
      "cell_type": "code",
      "execution_count": null,
      "id": "d739e6d1",
      "metadata": {
        "id": "d739e6d1",
        "outputId": "254993f6-06c4-46f6-f72d-4043836c5b26"
      },
      "outputs": [
        {
          "data": {
            "text/plain": [
              "(1000, 7)"
            ]
          },
          "execution_count": 37,
          "metadata": {},
          "output_type": "execute_result"
        }
      ],
      "source": [
        "print(new_df.shape)"
      ]
    },
    {
      "cell_type": "code",
      "execution_count": null,
      "id": "55faddcf",
      "metadata": {
        "id": "55faddcf",
        "outputId": "0cf10fa3-5b7f-4be9-949e-e95165ec9994"
      },
      "outputs": [
        {
          "data": {
            "text/html": [
              "<div>\n",
              "<style scoped>\n",
              "    .dataframe tbody tr th:only-of-type {\n",
              "        vertical-align: middle;\n",
              "    }\n",
              "\n",
              "    .dataframe tbody tr th {\n",
              "        vertical-align: top;\n",
              "    }\n",
              "\n",
              "    .dataframe thead th {\n",
              "        text-align: right;\n",
              "    }\n",
              "</style>\n",
              "<table border=\"1\" class=\"dataframe\">\n",
              "  <thead>\n",
              "    <tr style=\"text-align: right;\">\n",
              "      <th></th>\n",
              "      <th>UPC</th>\n",
              "      <th>Product Type</th>\n",
              "      <th>Price (excl. tax)</th>\n",
              "      <th>Price (incl. tax)</th>\n",
              "      <th>Tax</th>\n",
              "      <th>Availability</th>\n",
              "      <th>Number of reviews</th>\n",
              "      <th>Rating</th>\n",
              "      <th>Title</th>\n",
              "    </tr>\n",
              "  </thead>\n",
              "  <tbody>\n",
              "    <tr>\n",
              "      <th>0</th>\n",
              "      <td>a897fe39b1053632</td>\n",
              "      <td>Books</td>\n",
              "      <td>Â£51.77</td>\n",
              "      <td>Â£51.77</td>\n",
              "      <td>Â£0.00</td>\n",
              "      <td>In stock (22 available)</td>\n",
              "      <td>0</td>\n",
              "      <td>Three</td>\n",
              "      <td>A Light in the Attic</td>\n",
              "    </tr>\n",
              "    <tr>\n",
              "      <th>1</th>\n",
              "      <td>90fa61229261140a</td>\n",
              "      <td>Books</td>\n",
              "      <td>Â£53.74</td>\n",
              "      <td>Â£53.74</td>\n",
              "      <td>Â£0.00</td>\n",
              "      <td>In stock (20 available)</td>\n",
              "      <td>0</td>\n",
              "      <td>One</td>\n",
              "      <td>Tipping the Velvet</td>\n",
              "    </tr>\n",
              "    <tr>\n",
              "      <th>2</th>\n",
              "      <td>6957f44c3847a760</td>\n",
              "      <td>Books</td>\n",
              "      <td>Â£50.10</td>\n",
              "      <td>Â£50.10</td>\n",
              "      <td>Â£0.00</td>\n",
              "      <td>In stock (20 available)</td>\n",
              "      <td>0</td>\n",
              "      <td>One</td>\n",
              "      <td>Soumission</td>\n",
              "    </tr>\n",
              "    <tr>\n",
              "      <th>3</th>\n",
              "      <td>e00eb4fd7b871a48</td>\n",
              "      <td>Books</td>\n",
              "      <td>Â£47.82</td>\n",
              "      <td>Â£47.82</td>\n",
              "      <td>Â£0.00</td>\n",
              "      <td>In stock (20 available)</td>\n",
              "      <td>0</td>\n",
              "      <td>Four</td>\n",
              "      <td>Sharp Objects</td>\n",
              "    </tr>\n",
              "    <tr>\n",
              "      <th>4</th>\n",
              "      <td>4165285e1663650f</td>\n",
              "      <td>Books</td>\n",
              "      <td>Â£54.23</td>\n",
              "      <td>Â£54.23</td>\n",
              "      <td>Â£0.00</td>\n",
              "      <td>In stock (20 available)</td>\n",
              "      <td>0</td>\n",
              "      <td>Five</td>\n",
              "      <td>Sapiens: A Brief History of Humankind</td>\n",
              "    </tr>\n",
              "    <tr>\n",
              "      <th>...</th>\n",
              "      <td>...</td>\n",
              "      <td>...</td>\n",
              "      <td>...</td>\n",
              "      <td>...</td>\n",
              "      <td>...</td>\n",
              "      <td>...</td>\n",
              "      <td>...</td>\n",
              "      <td>...</td>\n",
              "      <td>...</td>\n",
              "    </tr>\n",
              "    <tr>\n",
              "      <th>995</th>\n",
              "      <td>cd2a2a70dd5d176d</td>\n",
              "      <td>Books</td>\n",
              "      <td>Â£55.53</td>\n",
              "      <td>Â£55.53</td>\n",
              "      <td>Â£0.00</td>\n",
              "      <td>In stock (1 available)</td>\n",
              "      <td>0</td>\n",
              "      <td>One</td>\n",
              "      <td>Alice in Wonderland (Alice's Adventures in Won...</td>\n",
              "    </tr>\n",
              "    <tr>\n",
              "      <th>996</th>\n",
              "      <td>bfd5e1701c862ac3</td>\n",
              "      <td>Books</td>\n",
              "      <td>Â£57.06</td>\n",
              "      <td>Â£57.06</td>\n",
              "      <td>Â£0.00</td>\n",
              "      <td>In stock (1 available)</td>\n",
              "      <td>0</td>\n",
              "      <td>Four</td>\n",
              "      <td>Ajin: Demi-Human, Volume 1 (Ajin: Demi-Human #1)</td>\n",
              "    </tr>\n",
              "    <tr>\n",
              "      <th>997</th>\n",
              "      <td>19fec36a1dfb4c16</td>\n",
              "      <td>Books</td>\n",
              "      <td>Â£16.97</td>\n",
              "      <td>Â£16.97</td>\n",
              "      <td>Â£0.00</td>\n",
              "      <td>In stock (1 available)</td>\n",
              "      <td>0</td>\n",
              "      <td>Five</td>\n",
              "      <td>A Spy's Devotion (The Regency Spies of London #1)</td>\n",
              "    </tr>\n",
              "    <tr>\n",
              "      <th>998</th>\n",
              "      <td>f684a82adc49f011</td>\n",
              "      <td>Books</td>\n",
              "      <td>Â£53.98</td>\n",
              "      <td>Â£53.98</td>\n",
              "      <td>Â£0.00</td>\n",
              "      <td>In stock (1 available)</td>\n",
              "      <td>0</td>\n",
              "      <td>One</td>\n",
              "      <td>1st to Die (Women's Murder Club #1)</td>\n",
              "    </tr>\n",
              "    <tr>\n",
              "      <th>999</th>\n",
              "      <td>228ba5e7577e1d49</td>\n",
              "      <td>Books</td>\n",
              "      <td>Â£26.08</td>\n",
              "      <td>Â£26.08</td>\n",
              "      <td>Â£0.00</td>\n",
              "      <td>In stock (1 available)</td>\n",
              "      <td>0</td>\n",
              "      <td>Five</td>\n",
              "      <td>1,000 Places to See Before You Die</td>\n",
              "    </tr>\n",
              "  </tbody>\n",
              "</table>\n",
              "<p>1000 rows × 9 columns</p>\n",
              "</div>"
            ],
            "text/plain": [
              "                  UPC Product Type Price (excl. tax) Price (incl. tax)  \\\n",
              "0    a897fe39b1053632        Books           Â£51.77           Â£51.77   \n",
              "1    90fa61229261140a        Books           Â£53.74           Â£53.74   \n",
              "2    6957f44c3847a760        Books           Â£50.10           Â£50.10   \n",
              "3    e00eb4fd7b871a48        Books           Â£47.82           Â£47.82   \n",
              "4    4165285e1663650f        Books           Â£54.23           Â£54.23   \n",
              "..                ...          ...               ...               ...   \n",
              "995  cd2a2a70dd5d176d        Books           Â£55.53           Â£55.53   \n",
              "996  bfd5e1701c862ac3        Books           Â£57.06           Â£57.06   \n",
              "997  19fec36a1dfb4c16        Books           Â£16.97           Â£16.97   \n",
              "998  f684a82adc49f011        Books           Â£53.98           Â£53.98   \n",
              "999  228ba5e7577e1d49        Books           Â£26.08           Â£26.08   \n",
              "\n",
              "        Tax             Availability Number of reviews Rating  \\\n",
              "0    Â£0.00  In stock (22 available)                 0  Three   \n",
              "1    Â£0.00  In stock (20 available)                 0    One   \n",
              "2    Â£0.00  In stock (20 available)                 0    One   \n",
              "3    Â£0.00  In stock (20 available)                 0   Four   \n",
              "4    Â£0.00  In stock (20 available)                 0   Five   \n",
              "..      ...                      ...               ...    ...   \n",
              "995  Â£0.00   In stock (1 available)                 0    One   \n",
              "996  Â£0.00   In stock (1 available)                 0   Four   \n",
              "997  Â£0.00   In stock (1 available)                 0   Five   \n",
              "998  Â£0.00   In stock (1 available)                 0    One   \n",
              "999  Â£0.00   In stock (1 available)                 0   Five   \n",
              "\n",
              "                                                 Title  \n",
              "0                                 A Light in the Attic  \n",
              "1                                   Tipping the Velvet  \n",
              "2                                           Soumission  \n",
              "3                                        Sharp Objects  \n",
              "4                Sapiens: A Brief History of Humankind  \n",
              "..                                                 ...  \n",
              "995  Alice in Wonderland (Alice's Adventures in Won...  \n",
              "996   Ajin: Demi-Human, Volume 1 (Ajin: Demi-Human #1)  \n",
              "997  A Spy's Devotion (The Regency Spies of London #1)  \n",
              "998                1st to Die (Women's Murder Club #1)  \n",
              "999                 1,000 Places to See Before You Die  \n",
              "\n",
              "[1000 rows x 9 columns]"
            ]
          },
          "execution_count": 38,
          "metadata": {},
          "output_type": "execute_result"
        }
      ],
      "source": [
        "# adding new columns in a dataframe \n",
        "new_df[\"Rating\"] = rating_list\n",
        "new_df[\"Title\"] = title_list\n",
        "new_df"
      ]
    },
    {
      "cell_type": "code",
      "execution_count": null,
      "id": "313c12d1",
      "metadata": {
        "id": "313c12d1"
      },
      "outputs": [],
      "source": []
    },
    {
      "cell_type": "code",
      "execution_count": null,
      "id": "9d25f16f",
      "metadata": {
        "id": "9d25f16f"
      },
      "outputs": [],
      "source": [
        "# to select the category of the book \n",
        "soup_new.select('ul')"
      ]
    },
    {
      "cell_type": "code",
      "execution_count": null,
      "id": "36715a2e",
      "metadata": {
        "scrolled": true,
        "id": "36715a2e",
        "outputId": "3cf45984-6a45-4a8b-fdcb-227ad7751e6a"
      },
      "outputs": [
        {
          "data": {
            "text/plain": [
              "<ul class=\"breadcrumb\">\n",
              "<li>\n",
              "<a href=\"../../index.html\">Home</a>\n",
              "</li>\n",
              "<li>\n",
              "<a href=\"../category/books_1/index.html\">Books</a>\n",
              "</li>\n",
              "<li>\n",
              "<a href=\"../category/books/thriller_37/index.html\">Thriller</a>\n",
              "</li>\n",
              "<li class=\"active\">In Her Wake</li>\n",
              "</ul>"
            ]
          },
          "execution_count": 41,
          "metadata": {},
          "output_type": "execute_result"
        }
      ],
      "source": [
        "# we use index since it is a list  \n",
        "(soup_new.select('ul'))[0]"
      ]
    },
    {
      "cell_type": "code",
      "execution_count": null,
      "id": "bee2acb5",
      "metadata": {
        "id": "bee2acb5",
        "outputId": "9b94cce7-748c-46cc-8217-64f3744e2e32"
      },
      "outputs": [
        {
          "data": {
            "text/plain": [
              "[<a href=\"../../index.html\">Home</a>,\n",
              " <a href=\"../category/books_1/index.html\">Books</a>,\n",
              " <a href=\"../category/books/thriller_37/index.html\">Thriller</a>]"
            ]
          },
          "execution_count": 42,
          "metadata": {},
          "output_type": "execute_result"
        }
      ],
      "source": [
        "# from the HTML code above, as we can see 'a' tag has the genre of the book, so we select that tag\n",
        "(soup_new.select('ul'))[0].select('a')"
      ]
    },
    {
      "cell_type": "code",
      "execution_count": null,
      "id": "8633cfba",
      "metadata": {
        "id": "8633cfba",
        "outputId": "30ee12c0-cb00-4ecb-eb4b-e3181cbee9c7"
      },
      "outputs": [
        {
          "data": {
            "text/plain": [
              "<a href=\"../category/books/thriller_37/index.html\">Thriller</a>"
            ]
          },
          "execution_count": 43,
          "metadata": {},
          "output_type": "execute_result"
        }
      ],
      "source": [
        "# genre is present at the second index position of above list  \n",
        "(soup_new.select('ul'))[0].select('a')[2]"
      ]
    },
    {
      "cell_type": "code",
      "execution_count": null,
      "id": "b7cddc9e",
      "metadata": {
        "id": "b7cddc9e",
        "outputId": "a6aa6dbf-89b4-41e3-b5b7-62fa44aca84d"
      },
      "outputs": [
        {
          "data": {
            "text/plain": [
              "'Thriller'"
            ]
          },
          "execution_count": 44,
          "metadata": {},
          "output_type": "execute_result"
        }
      ],
      "source": [
        "(soup_new.select('ul'))[0].select('a')[2].text"
      ]
    },
    {
      "cell_type": "code",
      "execution_count": null,
      "id": "e2942b41",
      "metadata": {
        "id": "e2942b41"
      },
      "outputs": [],
      "source": []
    },
    {
      "cell_type": "markdown",
      "id": "a6725bca",
      "metadata": {
        "id": "a6725bca"
      },
      "source": [
        "**Using `for` loop to get the categories of each book in the form of a list**"
      ]
    },
    {
      "cell_type": "code",
      "execution_count": null,
      "id": "8d401162",
      "metadata": {
        "id": "8d401162",
        "outputId": "0dd1033f-f8d9-4e8c-f302-71c3dfd2b7a6"
      },
      "outputs": [
        {
          "name": "stdout",
          "output_type": "stream",
          "text": [
            "Wall time: 9min 53s\n"
          ]
        },
        {
          "data": {
            "text/plain": [
              "1000"
            ]
          },
          "execution_count": 3,
          "metadata": {},
          "output_type": "execute_result"
        }
      ],
      "source": [
        "%%time\n",
        "\n",
        "category_list = []\n",
        "\n",
        "for page_num in range(1,51):\n",
        "    request = requests.get(f'http://books.toscrape.com/catalogue/page-{page_num}.html')  #url of each page\n",
        "    soup_ = bs4.BeautifulSoup(request.text)\n",
        "    book_info_list = soup_.select('article h3 a')\n",
        "    \n",
        "    for n in range(0,20):\n",
        "        res = requests.get('http://books.toscrape.com/catalogue/'+ book_info_list[n]['href']) #url of each book in above page\n",
        "        soup = bs4.BeautifulSoup(res.text)\n",
        "\n",
        "        category = (soup.select('ul'))[0].select('a')[2].text\n",
        "                                 \n",
        "        category_list.append(category)\n",
        "        \n",
        "len(category_list)"
      ]
    },
    {
      "cell_type": "code",
      "execution_count": null,
      "id": "f7d6d9cf",
      "metadata": {
        "scrolled": true,
        "id": "f7d6d9cf",
        "outputId": "a914762a-76a7-4a0f-c8ad-b76bd13e151e"
      },
      "outputs": [
        {
          "name": "stdout",
          "output_type": "stream",
          "text": [
            "['Poetry', 'Historical Fiction', 'Fiction', 'Mystery', 'History', 'Young Adult', 'Business', 'Default', 'Default', 'Poetry']\n"
          ]
        }
      ],
      "source": [
        "print(category_list[0:10])"
      ]
    },
    {
      "cell_type": "code",
      "execution_count": null,
      "id": "b696f7a9",
      "metadata": {
        "id": "b696f7a9",
        "outputId": "1df1fb55-4eee-43b2-8353-b09e156eba6e"
      },
      "outputs": [
        {
          "name": "stdout",
          "output_type": "stream",
          "text": [
            "1000\n"
          ]
        }
      ],
      "source": [
        "print(len(category_list))"
      ]
    },
    {
      "cell_type": "code",
      "execution_count": null,
      "id": "7c5acd7a",
      "metadata": {
        "id": "7c5acd7a",
        "outputId": "584751fa-7cf5-4569-ea1f-e770b6c9b139"
      },
      "outputs": [
        {
          "data": {
            "text/html": [
              "<div>\n",
              "<style scoped>\n",
              "    .dataframe tbody tr th:only-of-type {\n",
              "        vertical-align: middle;\n",
              "    }\n",
              "\n",
              "    .dataframe tbody tr th {\n",
              "        vertical-align: top;\n",
              "    }\n",
              "\n",
              "    .dataframe thead th {\n",
              "        text-align: right;\n",
              "    }\n",
              "</style>\n",
              "<table border=\"1\" class=\"dataframe\">\n",
              "  <thead>\n",
              "    <tr style=\"text-align: right;\">\n",
              "      <th></th>\n",
              "      <th>UPC</th>\n",
              "      <th>Product Type</th>\n",
              "      <th>Price (excl. tax)</th>\n",
              "      <th>Price (incl. tax)</th>\n",
              "      <th>Tax</th>\n",
              "      <th>Availability</th>\n",
              "      <th>Number of reviews</th>\n",
              "      <th>Rating</th>\n",
              "      <th>Title</th>\n",
              "      <th>Category</th>\n",
              "    </tr>\n",
              "  </thead>\n",
              "  <tbody>\n",
              "    <tr>\n",
              "      <th>0</th>\n",
              "      <td>a897fe39b1053632</td>\n",
              "      <td>Books</td>\n",
              "      <td>Â£51.77</td>\n",
              "      <td>Â£51.77</td>\n",
              "      <td>Â£0.00</td>\n",
              "      <td>In stock (22 available)</td>\n",
              "      <td>0</td>\n",
              "      <td>Three</td>\n",
              "      <td>A Light in the Attic</td>\n",
              "      <td>Poetry</td>\n",
              "    </tr>\n",
              "    <tr>\n",
              "      <th>1</th>\n",
              "      <td>90fa61229261140a</td>\n",
              "      <td>Books</td>\n",
              "      <td>Â£53.74</td>\n",
              "      <td>Â£53.74</td>\n",
              "      <td>Â£0.00</td>\n",
              "      <td>In stock (20 available)</td>\n",
              "      <td>0</td>\n",
              "      <td>One</td>\n",
              "      <td>Tipping the Velvet</td>\n",
              "      <td>Historical Fiction</td>\n",
              "    </tr>\n",
              "    <tr>\n",
              "      <th>2</th>\n",
              "      <td>6957f44c3847a760</td>\n",
              "      <td>Books</td>\n",
              "      <td>Â£50.10</td>\n",
              "      <td>Â£50.10</td>\n",
              "      <td>Â£0.00</td>\n",
              "      <td>In stock (20 available)</td>\n",
              "      <td>0</td>\n",
              "      <td>One</td>\n",
              "      <td>Soumission</td>\n",
              "      <td>Fiction</td>\n",
              "    </tr>\n",
              "    <tr>\n",
              "      <th>3</th>\n",
              "      <td>e00eb4fd7b871a48</td>\n",
              "      <td>Books</td>\n",
              "      <td>Â£47.82</td>\n",
              "      <td>Â£47.82</td>\n",
              "      <td>Â£0.00</td>\n",
              "      <td>In stock (20 available)</td>\n",
              "      <td>0</td>\n",
              "      <td>Four</td>\n",
              "      <td>Sharp Objects</td>\n",
              "      <td>Mystery</td>\n",
              "    </tr>\n",
              "    <tr>\n",
              "      <th>4</th>\n",
              "      <td>4165285e1663650f</td>\n",
              "      <td>Books</td>\n",
              "      <td>Â£54.23</td>\n",
              "      <td>Â£54.23</td>\n",
              "      <td>Â£0.00</td>\n",
              "      <td>In stock (20 available)</td>\n",
              "      <td>0</td>\n",
              "      <td>Five</td>\n",
              "      <td>Sapiens: A Brief History of Humankind</td>\n",
              "      <td>History</td>\n",
              "    </tr>\n",
              "  </tbody>\n",
              "</table>\n",
              "</div>"
            ],
            "text/plain": [
              "                UPC Product Type Price (excl. tax) Price (incl. tax)     Tax  \\\n",
              "0  a897fe39b1053632        Books           Â£51.77           Â£51.77  Â£0.00   \n",
              "1  90fa61229261140a        Books           Â£53.74           Â£53.74  Â£0.00   \n",
              "2  6957f44c3847a760        Books           Â£50.10           Â£50.10  Â£0.00   \n",
              "3  e00eb4fd7b871a48        Books           Â£47.82           Â£47.82  Â£0.00   \n",
              "4  4165285e1663650f        Books           Â£54.23           Â£54.23  Â£0.00   \n",
              "\n",
              "              Availability Number of reviews Rating  \\\n",
              "0  In stock (22 available)                 0  Three   \n",
              "1  In stock (20 available)                 0    One   \n",
              "2  In stock (20 available)                 0    One   \n",
              "3  In stock (20 available)                 0   Four   \n",
              "4  In stock (20 available)                 0   Five   \n",
              "\n",
              "                                   Title            Category  \n",
              "0                   A Light in the Attic              Poetry  \n",
              "1                     Tipping the Velvet  Historical Fiction  \n",
              "2                             Soumission             Fiction  \n",
              "3                          Sharp Objects             Mystery  \n",
              "4  Sapiens: A Brief History of Humankind             History  "
            ]
          },
          "execution_count": 40,
          "metadata": {},
          "output_type": "execute_result"
        }
      ],
      "source": [
        "# adding category as a column in the above dataframe\n",
        "final_dataset = new_df.copy()\n",
        "\n",
        "final_dataset['Category'] = category_list\n",
        "\n",
        "final_dataset.head()"
      ]
    },
    {
      "cell_type": "code",
      "execution_count": null,
      "id": "27d69a46",
      "metadata": {
        "id": "27d69a46",
        "outputId": "cbda2d01-27a2-4f3a-bc1a-2d772c3ef531"
      },
      "outputs": [
        {
          "name": "stdout",
          "output_type": "stream",
          "text": [
            "(1000, 10)\n"
          ]
        }
      ],
      "source": [
        "print(final_dataset.shape)"
      ]
    },
    {
      "cell_type": "markdown",
      "id": "48da922b",
      "metadata": {
        "id": "48da922b"
      },
      "source": [
        "**To store this data in the form of `csv` file**"
      ]
    },
    {
      "cell_type": "code",
      "execution_count": null,
      "id": "9880d976",
      "metadata": {
        "id": "9880d976",
        "colab": {
          "base_uri": "https://localhost:8080/",
          "height": 171
        },
        "outputId": "23f8d31b-2d27-413d-a707-09479db12d4b"
      },
      "outputs": [
        {
          "output_type": "error",
          "ename": "NameError",
          "evalue": "ignored",
          "traceback": [
            "\u001b[0;31m---------------------------------------------------------------------------\u001b[0m",
            "\u001b[0;31mNameError\u001b[0m                                 Traceback (most recent call last)",
            "\u001b[0;32m<ipython-input-25-6a2625731b80>\u001b[0m in \u001b[0;36m<cell line: 1>\u001b[0;34m()\u001b[0m\n\u001b[0;32m----> 1\u001b[0;31m \u001b[0mfinal_dataset\u001b[0m\u001b[0;34m.\u001b[0m\u001b[0mto_csv\u001b[0m\u001b[0;34m(\u001b[0m\u001b[0;34m'scraped_dataset.csv'\u001b[0m\u001b[0;34m)\u001b[0m\u001b[0;34m\u001b[0m\u001b[0;34m\u001b[0m\u001b[0m\n\u001b[0m",
            "\u001b[0;31mNameError\u001b[0m: name 'final_dataset' is not defined"
          ]
        }
      ],
      "source": [
        "final_dataset.to_csv('scraped_dataset.csv')"
      ]
    }
  ],
  "metadata": {
    "kernelspec": {
      "display_name": "Python 3",
      "language": "python",
      "name": "python3"
    },
    "language_info": {
      "codemirror_mode": {
        "name": "ipython",
        "version": 3
      },
      "file_extension": ".py",
      "mimetype": "text/x-python",
      "name": "python",
      "nbconvert_exporter": "python",
      "pygments_lexer": "ipython3",
      "version": "3.8.8"
    },
    "colab": {
      "provenance": []
    }
  },
  "nbformat": 4,
  "nbformat_minor": 5
}